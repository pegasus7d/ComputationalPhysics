{
 "cells": [
  {
   "cell_type": "code",
   "execution_count": 1,
   "id": "b6cde755",
   "metadata": {},
   "outputs": [],
   "source": [
    "from math import e\n"
   ]
  },
  {
   "cell_type": "code",
   "execution_count": 2,
   "id": "e2a4585a",
   "metadata": {},
   "outputs": [],
   "source": [
    "def g(x):\n",
    "    return (x**2)*(e**(x-1))"
   ]
  },
  {
   "cell_type": "code",
   "execution_count": 3,
   "id": "5fdc8c7e",
   "metadata": {},
   "outputs": [],
   "source": [
    "def trapezoidal(start,end,n,f):\n",
    "    h=(end-start)/n\n",
    "    result=f(start)+f(end)\n",
    "    for i in range(1,n):\n",
    "        result += 2*f(start+i*h)\n",
    "    result*=h/2\n",
    "    return result    "
   ]
  },
  {
   "cell_type": "code",
   "execution_count": 4,
   "id": "4b5d373a",
   "metadata": {},
   "outputs": [
    {
     "data": {
      "text/plain": [
       "0.26426611750721724"
      ]
     },
     "execution_count": 4,
     "metadata": {},
     "output_type": "execute_result"
    }
   ],
   "source": [
    "trapezoidal(0,1,100,g)"
   ]
  },
  {
   "cell_type": "code",
   "execution_count": 5,
   "id": "370991b4",
   "metadata": {},
   "outputs": [],
   "source": [
    "def simpsons(start,end,n,f):\n",
    "    h=(end-start)/n\n",
    "    x=list()\n",
    "    fx=list()\n",
    "    i=0\n",
    "    while i<=n:\n",
    "        x.append(start+i*h)\n",
    "        fx.append(f(x[i]))\n",
    "        i+=1\n",
    "    res=0\n",
    "    i=0\n",
    "    while i<=n:\n",
    "        if i==0 or i==n:\n",
    "            res+=fx[i]\n",
    "        elif i%2==1:\n",
    "            res+=4*fx[i]\n",
    "        else:\n",
    "            res+=2*fx[i]\n",
    "        i+=1\n",
    "    res=res*(h/3)\n",
    "    return res"
   ]
  },
  {
   "cell_type": "code",
   "execution_count": 6,
   "id": "474e4323",
   "metadata": {},
   "outputs": [
    {
     "data": {
      "text/plain": [
       "0.26424111825669555"
      ]
     },
     "execution_count": 6,
     "metadata": {},
     "output_type": "execute_result"
    }
   ],
   "source": [
    "simpsons(0,1,100,g)"
   ]
  },
  {
   "cell_type": "code",
   "execution_count": 7,
   "id": "694bc6f5",
   "metadata": {},
   "outputs": [
    {
     "name": "stdout",
     "output_type": "stream",
     "text": [
      "63.86905161190659\n"
     ]
    }
   ],
   "source": [
    "def func(x, y):\n",
    "    value = y**2 - x\n",
    "    return value\n",
    "\n",
    "def inner_incrementor(x, y, c):\n",
    "    value = func(x, y) + func(x, (y + c))\n",
    "    value = value / 2\n",
    "    value = value * c\n",
    "    return value\n",
    "\n",
    "def inner_integrator(x):\n",
    "    q = (x - 2)**2\n",
    "    c = (6 - q) / 1000\n",
    "    counter = 0\n",
    "    for i in range(1000):\n",
    "        j = q + i * c\n",
    "        counter += inner_incrementor(x, j, c)\n",
    "    return counter\n",
    "\n",
    "def outer_incrementor(x, h):\n",
    "    value = inner_integrator(x) + inner_integrator(x + h)\n",
    "    value = value / 2\n",
    "    value = value * h\n",
    "    return value\n",
    "\n",
    "n = 1000\n",
    "h = 1 / n\n",
    "count = 0\n",
    "\n",
    "for i in range(n):\n",
    "    j = i * h\n",
    "    count += outer_incrementor(j, h)\n",
    "\n",
    "print(count)\n",
    "\n",
    "\t\n"
   ]
  },
  {
   "cell_type": "code",
   "execution_count": 8,
   "id": "6f318232",
   "metadata": {},
   "outputs": [],
   "source": [
    "import numpy as np\n",
    "\n",
    "from scipy import integrate"
   ]
  },
  {
   "cell_type": "code",
   "execution_count": 9,
   "id": "d37781a1",
   "metadata": {},
   "outputs": [
    {
     "data": {
      "text/plain": [
       "(63.86904761904763, 7.481933117430937e-13)"
      ]
     },
     "execution_count": 9,
     "metadata": {},
     "output_type": "execute_result"
    }
   ],
   "source": [
    "f = lambda y, x: y*y-x\n",
    "integrate.dblquad(f, 0, 1, lambda x: (x-2)**2, 6)"
   ]
  },
  {
   "cell_type": "code",
   "execution_count": 10,
   "id": "c6b45193",
   "metadata": {},
   "outputs": [],
   "source": [
    "def base_desnity(x):\n",
    "    return e** (-(x**2))"
   ]
  },
  {
   "cell_type": "code",
   "execution_count": 11,
   "id": "3e8c1b11",
   "metadata": {},
   "outputs": [],
   "source": [
    "A=1/simpsons(-10,10,1000,base_desnity)"
   ]
  },
  {
   "cell_type": "code",
   "execution_count": 12,
   "id": "89a1bed8",
   "metadata": {},
   "outputs": [],
   "source": [
    "def density(x):\n",
    "    return A*base_desnity(x)"
   ]
  },
  {
   "cell_type": "code",
   "execution_count": 13,
   "id": "bf448b20",
   "metadata": {},
   "outputs": [],
   "source": [
    "def first_moment(x):\n",
    "    return density(x)*x"
   ]
  },
  {
   "cell_type": "code",
   "execution_count": 14,
   "id": "1d83b133",
   "metadata": {},
   "outputs": [
    {
     "data": {
      "text/plain": [
       "-8.982844156253411e-17"
      ]
     },
     "execution_count": 14,
     "metadata": {},
     "output_type": "execute_result"
    }
   ],
   "source": [
    "simpsons(-10,10,1000,first_moment)"
   ]
  },
  {
   "cell_type": "code",
   "execution_count": 15,
   "id": "004e7ef9",
   "metadata": {},
   "outputs": [],
   "source": [
    "def second_moment(x):\n",
    "    return density(x)*x*x"
   ]
  },
  {
   "cell_type": "code",
   "execution_count": 16,
   "id": "df4dd894",
   "metadata": {},
   "outputs": [
    {
     "data": {
      "text/plain": [
       "0.4999999999999989"
      ]
     },
     "execution_count": 16,
     "metadata": {},
     "output_type": "execute_result"
    }
   ],
   "source": [
    "simpsons(-10,10,1000,second_moment)"
   ]
  },
  {
   "cell_type": "code",
   "execution_count": 19,
   "id": "afac9340",
   "metadata": {},
   "outputs": [
    {
     "name": "stdout",
     "output_type": "stream",
     "text": [
      "63.91334271928978\n"
     ]
    }
   ],
   "source": [
    "\n",
    "import numpy as np\n",
    "\n",
    "def f(x, y):\n",
    "    return (y ** 2) - x\n",
    "\n",
    "xs = np.linspace(0, 1, 100)\n",
    "hx = (1 - 0) / len(xs)\n",
    "\n",
    "result = 0\n",
    "\n",
    "\n",
    "for x in xs:\n",
    "    start=(x-2)**2\n",
    "    end=6\n",
    "    n=100\n",
    "    ys=np.linspace(start,end,n)\n",
    "    hy=(end-start)/n\n",
    "    result_y=0\n",
    "    for y in ys:\n",
    "        result_y+=f(x,y)\n",
    "    result+=result_y*hy\n",
    "\n",
    "print( result*hx)\n",
    "\n",
    "\n"
   ]
  },
  {
   "cell_type": "code",
   "execution_count": null,
   "id": "55029b5c",
   "metadata": {},
   "outputs": [],
   "source": []
  }
 ],
 "metadata": {
  "kernelspec": {
   "display_name": "Python 3 (ipykernel)",
   "language": "python",
   "name": "python3"
  },
  "language_info": {
   "codemirror_mode": {
    "name": "ipython",
    "version": 3
   },
   "file_extension": ".py",
   "mimetype": "text/x-python",
   "name": "python",
   "nbconvert_exporter": "python",
   "pygments_lexer": "ipython3",
   "version": "3.11.4"
  }
 },
 "nbformat": 4,
 "nbformat_minor": 5
}
