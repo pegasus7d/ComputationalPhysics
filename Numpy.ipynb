{
 "cells": [
  {
   "cell_type": "code",
   "execution_count": 1,
   "id": "9efcc4d7",
   "metadata": {},
   "outputs": [],
   "source": [
    "import numpy as np\n",
    "import matplotlib.pyplot as plt"
   ]
  },
  {
   "cell_type": "code",
   "execution_count": 2,
   "id": "c29fde81",
   "metadata": {},
   "outputs": [],
   "source": [
    "a1=np.array([3,5,7,8,8])"
   ]
  },
  {
   "cell_type": "code",
   "execution_count": 3,
   "id": "bd5674d6",
   "metadata": {},
   "outputs": [
    {
     "data": {
      "text/plain": [
       "array([3, 5, 7, 8, 8])"
      ]
     },
     "execution_count": 3,
     "metadata": {},
     "output_type": "execute_result"
    }
   ],
   "source": [
    "a1"
   ]
  },
  {
   "cell_type": "code",
   "execution_count": 4,
   "id": "77ab3ca9",
   "metadata": {},
   "outputs": [
    {
     "name": "stdout",
     "output_type": "stream",
     "text": [
      "[0. 0. 0. 0. 0. 0. 0. 0. 0. 0.]\n",
      "[1. 1. 1. 1. 1. 1. 1. 1. 1. 1.]\n",
      "[0.20090035 0.3429395  0.12978899 0.0338052  0.39193437 0.4010514\n",
      " 0.60869168 0.91324087 0.55258076 0.8173997 ]\n",
      "[-0.06530756  0.04400247  0.8081876   1.27203636 -0.25486089  0.96093704\n",
      "  0.44031964  0.83749345  0.07739985 -0.8839399 ]\n"
     ]
    }
   ],
   "source": [
    "a2=np.zeros(10)\n",
    "a3=np.ones(10)\n",
    "a4=np.random.random(10)\n",
    "a5=np.random.randn(10)\n",
    "print(a2)\n",
    "print(a3)\n",
    "print(a4)\n",
    "print(a5)"
   ]
  },
  {
   "cell_type": "code",
   "execution_count": 5,
   "id": "249884bc",
   "metadata": {},
   "outputs": [
    {
     "data": {
      "text/plain": [
       "array([ 0.        ,  0.1010101 ,  0.2020202 ,  0.3030303 ,  0.4040404 ,\n",
       "        0.50505051,  0.60606061,  0.70707071,  0.80808081,  0.90909091,\n",
       "        1.01010101,  1.11111111,  1.21212121,  1.31313131,  1.41414141,\n",
       "        1.51515152,  1.61616162,  1.71717172,  1.81818182,  1.91919192,\n",
       "        2.02020202,  2.12121212,  2.22222222,  2.32323232,  2.42424242,\n",
       "        2.52525253,  2.62626263,  2.72727273,  2.82828283,  2.92929293,\n",
       "        3.03030303,  3.13131313,  3.23232323,  3.33333333,  3.43434343,\n",
       "        3.53535354,  3.63636364,  3.73737374,  3.83838384,  3.93939394,\n",
       "        4.04040404,  4.14141414,  4.24242424,  4.34343434,  4.44444444,\n",
       "        4.54545455,  4.64646465,  4.74747475,  4.84848485,  4.94949495,\n",
       "        5.05050505,  5.15151515,  5.25252525,  5.35353535,  5.45454545,\n",
       "        5.55555556,  5.65656566,  5.75757576,  5.85858586,  5.95959596,\n",
       "        6.06060606,  6.16161616,  6.26262626,  6.36363636,  6.46464646,\n",
       "        6.56565657,  6.66666667,  6.76767677,  6.86868687,  6.96969697,\n",
       "        7.07070707,  7.17171717,  7.27272727,  7.37373737,  7.47474747,\n",
       "        7.57575758,  7.67676768,  7.77777778,  7.87878788,  7.97979798,\n",
       "        8.08080808,  8.18181818,  8.28282828,  8.38383838,  8.48484848,\n",
       "        8.58585859,  8.68686869,  8.78787879,  8.88888889,  8.98989899,\n",
       "        9.09090909,  9.19191919,  9.29292929,  9.39393939,  9.49494949,\n",
       "        9.5959596 ,  9.6969697 ,  9.7979798 ,  9.8989899 , 10.        ])"
      ]
     },
     "execution_count": 5,
     "metadata": {},
     "output_type": "execute_result"
    }
   ],
   "source": [
    "a6=np.linspace(0,10,100)\n",
    "a6"
   ]
  },
  {
   "cell_type": "code",
   "execution_count": 6,
   "id": "0dc5fc5e",
   "metadata": {},
   "outputs": [
    {
     "data": {
      "text/plain": [
       "array([0.  , 0.02, 0.04, 0.06, 0.08, 0.1 , 0.12, 0.14, 0.16, 0.18, 0.2 ,\n",
       "       0.22, 0.24, 0.26, 0.28, 0.3 , 0.32, 0.34, 0.36, 0.38, 0.4 , 0.42,\n",
       "       0.44, 0.46, 0.48, 0.5 , 0.52, 0.54, 0.56, 0.58, 0.6 , 0.62, 0.64,\n",
       "       0.66, 0.68, 0.7 , 0.72, 0.74, 0.76, 0.78, 0.8 , 0.82, 0.84, 0.86,\n",
       "       0.88, 0.9 , 0.92, 0.94, 0.96, 0.98, 1.  , 1.02, 1.04, 1.06, 1.08,\n",
       "       1.1 , 1.12, 1.14, 1.16, 1.18, 1.2 , 1.22, 1.24, 1.26, 1.28, 1.3 ,\n",
       "       1.32, 1.34, 1.36, 1.38, 1.4 , 1.42, 1.44, 1.46, 1.48, 1.5 , 1.52,\n",
       "       1.54, 1.56, 1.58, 1.6 , 1.62, 1.64, 1.66, 1.68, 1.7 , 1.72, 1.74,\n",
       "       1.76, 1.78, 1.8 , 1.82, 1.84, 1.86, 1.88, 1.9 , 1.92, 1.94, 1.96,\n",
       "       1.98, 2.  , 2.02, 2.04, 2.06, 2.08, 2.1 , 2.12, 2.14, 2.16, 2.18,\n",
       "       2.2 , 2.22, 2.24, 2.26, 2.28, 2.3 , 2.32, 2.34, 2.36, 2.38, 2.4 ,\n",
       "       2.42, 2.44, 2.46, 2.48, 2.5 , 2.52, 2.54, 2.56, 2.58, 2.6 , 2.62,\n",
       "       2.64, 2.66, 2.68, 2.7 , 2.72, 2.74, 2.76, 2.78, 2.8 , 2.82, 2.84,\n",
       "       2.86, 2.88, 2.9 , 2.92, 2.94, 2.96, 2.98, 3.  , 3.02, 3.04, 3.06,\n",
       "       3.08, 3.1 , 3.12, 3.14, 3.16, 3.18, 3.2 , 3.22, 3.24, 3.26, 3.28,\n",
       "       3.3 , 3.32, 3.34, 3.36, 3.38, 3.4 , 3.42, 3.44, 3.46, 3.48, 3.5 ,\n",
       "       3.52, 3.54, 3.56, 3.58, 3.6 , 3.62, 3.64, 3.66, 3.68, 3.7 , 3.72,\n",
       "       3.74, 3.76, 3.78, 3.8 , 3.82, 3.84, 3.86, 3.88, 3.9 , 3.92, 3.94,\n",
       "       3.96, 3.98, 4.  , 4.02, 4.04, 4.06, 4.08, 4.1 , 4.12, 4.14, 4.16,\n",
       "       4.18, 4.2 , 4.22, 4.24, 4.26, 4.28, 4.3 , 4.32, 4.34, 4.36, 4.38,\n",
       "       4.4 , 4.42, 4.44, 4.46, 4.48, 4.5 , 4.52, 4.54, 4.56, 4.58, 4.6 ,\n",
       "       4.62, 4.64, 4.66, 4.68, 4.7 , 4.72, 4.74, 4.76, 4.78, 4.8 , 4.82,\n",
       "       4.84, 4.86, 4.88, 4.9 , 4.92, 4.94, 4.96, 4.98, 5.  , 5.02, 5.04,\n",
       "       5.06, 5.08, 5.1 , 5.12, 5.14, 5.16, 5.18, 5.2 , 5.22, 5.24, 5.26,\n",
       "       5.28, 5.3 , 5.32, 5.34, 5.36, 5.38, 5.4 , 5.42, 5.44, 5.46, 5.48,\n",
       "       5.5 , 5.52, 5.54, 5.56, 5.58, 5.6 , 5.62, 5.64, 5.66, 5.68, 5.7 ,\n",
       "       5.72, 5.74, 5.76, 5.78, 5.8 , 5.82, 5.84, 5.86, 5.88, 5.9 , 5.92,\n",
       "       5.94, 5.96, 5.98, 6.  , 6.02, 6.04, 6.06, 6.08, 6.1 , 6.12, 6.14,\n",
       "       6.16, 6.18, 6.2 , 6.22, 6.24, 6.26, 6.28, 6.3 , 6.32, 6.34, 6.36,\n",
       "       6.38, 6.4 , 6.42, 6.44, 6.46, 6.48, 6.5 , 6.52, 6.54, 6.56, 6.58,\n",
       "       6.6 , 6.62, 6.64, 6.66, 6.68, 6.7 , 6.72, 6.74, 6.76, 6.78, 6.8 ,\n",
       "       6.82, 6.84, 6.86, 6.88, 6.9 , 6.92, 6.94, 6.96, 6.98, 7.  , 7.02,\n",
       "       7.04, 7.06, 7.08, 7.1 , 7.12, 7.14, 7.16, 7.18, 7.2 , 7.22, 7.24,\n",
       "       7.26, 7.28, 7.3 , 7.32, 7.34, 7.36, 7.38, 7.4 , 7.42, 7.44, 7.46,\n",
       "       7.48, 7.5 , 7.52, 7.54, 7.56, 7.58, 7.6 , 7.62, 7.64, 7.66, 7.68,\n",
       "       7.7 , 7.72, 7.74, 7.76, 7.78, 7.8 , 7.82, 7.84, 7.86, 7.88, 7.9 ,\n",
       "       7.92, 7.94, 7.96, 7.98, 8.  , 8.02, 8.04, 8.06, 8.08, 8.1 , 8.12,\n",
       "       8.14, 8.16, 8.18, 8.2 , 8.22, 8.24, 8.26, 8.28, 8.3 , 8.32, 8.34,\n",
       "       8.36, 8.38, 8.4 , 8.42, 8.44, 8.46, 8.48, 8.5 , 8.52, 8.54, 8.56,\n",
       "       8.58, 8.6 , 8.62, 8.64, 8.66, 8.68, 8.7 , 8.72, 8.74, 8.76, 8.78,\n",
       "       8.8 , 8.82, 8.84, 8.86, 8.88, 8.9 , 8.92, 8.94, 8.96, 8.98, 9.  ,\n",
       "       9.02, 9.04, 9.06, 9.08, 9.1 , 9.12, 9.14, 9.16, 9.18, 9.2 , 9.22,\n",
       "       9.24, 9.26, 9.28, 9.3 , 9.32, 9.34, 9.36, 9.38, 9.4 , 9.42, 9.44,\n",
       "       9.46, 9.48, 9.5 , 9.52, 9.54, 9.56, 9.58, 9.6 , 9.62, 9.64, 9.66,\n",
       "       9.68, 9.7 , 9.72, 9.74, 9.76, 9.78, 9.8 , 9.82, 9.84, 9.86, 9.88,\n",
       "       9.9 , 9.92, 9.94, 9.96, 9.98])"
      ]
     },
     "execution_count": 6,
     "metadata": {},
     "output_type": "execute_result"
    }
   ],
   "source": [
    "a7=np.arange(0,10,0.02)\n",
    "a7"
   ]
  },
  {
   "cell_type": "code",
   "execution_count": 7,
   "id": "1376ea96",
   "metadata": {},
   "outputs": [
    {
     "data": {
      "text/plain": [
       "array([3, 5, 7, 8, 8])"
      ]
     },
     "execution_count": 7,
     "metadata": {},
     "output_type": "execute_result"
    }
   ],
   "source": [
    "a1"
   ]
  },
  {
   "cell_type": "code",
   "execution_count": 8,
   "id": "5ddd8787",
   "metadata": {},
   "outputs": [
    {
     "data": {
      "text/plain": [
       "array([ 6, 10, 14, 16, 16])"
      ]
     },
     "execution_count": 8,
     "metadata": {},
     "output_type": "execute_result"
    }
   ],
   "source": [
    "2*a1"
   ]
  },
  {
   "cell_type": "code",
   "execution_count": 9,
   "id": "c2bac883",
   "metadata": {},
   "outputs": [
    {
     "data": {
      "text/plain": [
       "array([0.33333333, 0.2       , 0.14285714, 0.125     , 0.125     ])"
      ]
     },
     "execution_count": 9,
     "metadata": {},
     "output_type": "execute_result"
    }
   ],
   "source": [
    "1/a1"
   ]
  },
  {
   "cell_type": "code",
   "execution_count": 10,
   "id": "bf0de49f",
   "metadata": {},
   "outputs": [
    {
     "data": {
      "text/plain": [
       "array([False,  True,  True,  True,  True])"
      ]
     },
     "execution_count": 10,
     "metadata": {},
     "output_type": "execute_result"
    }
   ],
   "source": [
    "a1>4"
   ]
  },
  {
   "cell_type": "code",
   "execution_count": 11,
   "id": "4d5555fb",
   "metadata": {},
   "outputs": [
    {
     "data": {
      "text/plain": [
       "array([5, 7, 8, 8])"
      ]
     },
     "execution_count": 11,
     "metadata": {},
     "output_type": "execute_result"
    }
   ],
   "source": [
    "a1[a1>4]"
   ]
  },
  {
   "cell_type": "code",
   "execution_count": 12,
   "id": "3d9567f4",
   "metadata": {},
   "outputs": [
    {
     "data": {
      "text/plain": [
       "array([0.00000000e+00, 1.02030405e-04, 4.08121620e-04, 9.18273646e-04,\n",
       "       1.63248648e-03, 2.55076013e-03, 3.67309458e-03, 4.99948985e-03,\n",
       "       6.52994592e-03, 8.26446281e-03, 1.02030405e-02, 1.23456790e-02,\n",
       "       1.46923783e-02, 1.72431385e-02, 1.99979594e-02, 2.29568411e-02,\n",
       "       2.61197837e-02, 2.94867871e-02, 3.30578512e-02, 3.68329762e-02,\n",
       "       4.08121620e-02, 4.49954086e-02, 4.93827160e-02, 5.39740843e-02,\n",
       "       5.87695133e-02, 6.37690032e-02, 6.89725538e-02, 7.43801653e-02,\n",
       "       7.99918376e-02, 8.58075707e-02, 9.18273646e-02, 9.80512193e-02,\n",
       "       1.04479135e-01, 1.11111111e-01, 1.17947148e-01, 1.24987246e-01,\n",
       "       1.32231405e-01, 1.39679625e-01, 1.47331905e-01, 1.55188246e-01,\n",
       "       1.63248648e-01, 1.71513111e-01, 1.79981635e-01, 1.88654219e-01,\n",
       "       1.97530864e-01, 2.06611570e-01, 2.15896337e-01, 2.25385165e-01,\n",
       "       2.35078053e-01, 2.44975003e-01, 2.55076013e-01, 2.65381084e-01,\n",
       "       2.75890215e-01, 2.86603408e-01, 2.97520661e-01, 3.08641975e-01,\n",
       "       3.19967350e-01, 3.31496786e-01, 3.43230283e-01, 3.55167840e-01,\n",
       "       3.67309458e-01, 3.79655137e-01, 3.92204877e-01, 4.04958678e-01,\n",
       "       4.17916539e-01, 4.31078461e-01, 4.44444444e-01, 4.58014488e-01,\n",
       "       4.71788593e-01, 4.85766758e-01, 4.99948985e-01, 5.14335272e-01,\n",
       "       5.28925620e-01, 5.43720029e-01, 5.58718498e-01, 5.73921028e-01,\n",
       "       5.89327620e-01, 6.04938272e-01, 6.20752984e-01, 6.36771758e-01,\n",
       "       6.52994592e-01, 6.69421488e-01, 6.86052444e-01, 7.02887460e-01,\n",
       "       7.19926538e-01, 7.37169677e-01, 7.54616876e-01, 7.72268136e-01,\n",
       "       7.90123457e-01, 8.08182838e-01, 8.26446281e-01, 8.44913784e-01,\n",
       "       8.63585348e-01, 8.82460973e-01, 9.01540659e-01, 9.20824406e-01,\n",
       "       9.40312213e-01, 9.60004081e-01, 9.79900010e-01, 1.00000000e+00])"
      ]
     },
     "execution_count": 12,
     "metadata": {},
     "output_type": "execute_result"
    }
   ],
   "source": [
    "x=np.linspace(0,1,100)\n",
    "x**2"
   ]
  },
  {
   "cell_type": "code",
   "execution_count": 13,
   "id": "e031b4a8",
   "metadata": {},
   "outputs": [
    {
     "data": {
      "text/plain": [
       "[<matplotlib.lines.Line2D at 0x23803ead850>]"
      ]
     },
     "execution_count": 13,
     "metadata": {},
     "output_type": "execute_result"
    },
    {
     "data": {
      "image/png": "[encoded data removed]",
      "text/plain": [
       "<Figure size 640x480 with 1 Axes>"
      ]
     },
     "metadata": {},
     "output_type": "display_data"
    }
   ],
   "source": [
    "plt.plot(x,x**2)"
   ]
  },
  {
   "cell_type": "code",
   "execution_count": 14,
   "id": "6ab96d3a",
   "metadata": {},
   "outputs": [
    {
     "data": {
      "text/plain": [
       "(array([1., 2., 0., 1., 2., 1., 1., 0., 1., 1.]),\n",
       " array([0.0338052 , 0.12174877, 0.20969234, 0.2976359 , 0.38557947,\n",
       "        0.47352304, 0.5614666 , 0.64941017, 0.73735374, 0.8252973 ,\n",
       "        0.91324087]),\n",
       " <BarContainer object of 10 artists>)"
      ]
     },
     "execution_count": 14,
     "metadata": {},
     "output_type": "execute_result"
    },
    {
     "data": {
      "image/png": "[encoded data removed]",
      "text/plain": [
       "<Figure size 640x480 with 1 Axes>"
      ]
     },
     "metadata": {},
     "output_type": "display_data"
    }
   ],
   "source": [
    "plt.hist(a4)"
   ]
  },
  {
   "cell_type": "code",
   "execution_count": 15,
   "id": "82dcc577",
   "metadata": {},
   "outputs": [],
   "source": [
    "def f(x):\n",
    "    return x**2*np.sin(x)/np.exp(-x)\n",
    "\n",
    "x=np.linspace(0,10,100)\n",
    "y=f(x)"
   ]
  },
  {
   "cell_type": "code",
   "execution_count": 16,
   "id": "d5039904",
   "metadata": {},
   "outputs": [
    {
     "data": {
      "text/plain": [
       "[<matplotlib.lines.Line2D at 0x23803ed0390>]"
      ]
     },
     "execution_count": 16,
     "metadata": {},
     "output_type": "execute_result"
    },
    {
     "data": {
      "image/png": "[encoded data removed]",
      "text/plain": [
       "<Figure size 640x480 with 1 Axes>"
      ]
     },
     "metadata": {},
     "output_type": "display_data"
    }
   ],
   "source": [
    "plt.plot(x,y)"
   ]
  },
  {
   "cell_type": "code",
   "execution_count": 17,
   "id": "1d807a53",
   "metadata": {},
   "outputs": [
    {
     "data": {
      "text/plain": [
       "array([ 2,  4,  6,  8, 10])"
      ]
     },
     "execution_count": 17,
     "metadata": {},
     "output_type": "execute_result"
    }
   ],
   "source": [
    "a1=np.array([2,4,6,8,10])\n",
    "a1"
   ]
  },
  {
   "cell_type": "code",
   "execution_count": 18,
   "id": "9fe78dcc",
   "metadata": {},
   "outputs": [
    {
     "data": {
      "text/plain": [
       "array([ 6,  8, 10])"
      ]
     },
     "execution_count": 18,
     "metadata": {},
     "output_type": "execute_result"
    }
   ],
   "source": [
    "a1[2:]"
   ]
  },
  {
   "cell_type": "code",
   "execution_count": 19,
   "id": "23bfdcd9",
   "metadata": {},
   "outputs": [
    {
     "data": {
      "text/plain": [
       "array([2, 4, 6])"
      ]
     },
     "execution_count": 19,
     "metadata": {},
     "output_type": "execute_result"
    }
   ],
   "source": [
    "a1[:-2]"
   ]
  },
  {
   "cell_type": "code",
   "execution_count": 20,
   "id": "44f108c0",
   "metadata": {},
   "outputs": [
    {
     "data": {
      "text/plain": [
       "array([4, 6])"
      ]
     },
     "execution_count": 20,
     "metadata": {},
     "output_type": "execute_result"
    }
   ],
   "source": [
    "a1[1:-2]"
   ]
  },
  {
   "cell_type": "code",
   "execution_count": 21,
   "id": "9de21740",
   "metadata": {},
   "outputs": [
    {
     "data": {
      "text/plain": [
       "array([False,  True,  True,  True,  True])"
      ]
     },
     "execution_count": 21,
     "metadata": {},
     "output_type": "execute_result"
    }
   ],
   "source": [
    "a1>3"
   ]
  },
  {
   "cell_type": "code",
   "execution_count": 22,
   "id": "9de981d7",
   "metadata": {},
   "outputs": [
    {
     "data": {
      "text/plain": [
       "array([ 4,  6,  8, 10])"
      ]
     },
     "execution_count": 22,
     "metadata": {},
     "output_type": "execute_result"
    }
   ],
   "source": [
    "a1[a1>3]"
   ]
  },
  {
   "cell_type": "code",
   "execution_count": 23,
   "id": "2b4d97d3",
   "metadata": {},
   "outputs": [
    {
     "data": {
      "text/plain": [
       "array(['Jim', 'Luke', 'Josh', 'Pete'], dtype='<U4')"
      ]
     },
     "execution_count": 23,
     "metadata": {},
     "output_type": "execute_result"
    }
   ],
   "source": [
    "names=np.array(['Jim','Luke','Josh','Pete'])\n",
    "names"
   ]
  },
  {
   "cell_type": "code",
   "execution_count": 24,
   "id": "fc6e9875",
   "metadata": {},
   "outputs": [
    {
     "data": {
      "text/plain": [
       "'a'"
      ]
     },
     "execution_count": 24,
     "metadata": {},
     "output_type": "execute_result"
    }
   ],
   "source": [
    "f=lambda s:s[0]\n",
    "f(\"animal\")"
   ]
  },
  {
   "cell_type": "code",
   "execution_count": 25,
   "id": "dcf02da7",
   "metadata": {},
   "outputs": [
    {
     "data": {
      "text/plain": [
       "array([ True, False,  True, False])"
      ]
     },
     "execution_count": 25,
     "metadata": {},
     "output_type": "execute_result"
    }
   ],
   "source": [
    "np.vectorize(f)(names)=='J'"
   ]
  },
  {
   "cell_type": "code",
   "execution_count": 26,
   "id": "c8501621",
   "metadata": {},
   "outputs": [
    {
     "data": {
      "text/plain": [
       "array(['Jim', 'Josh'], dtype='<U4')"
      ]
     },
     "execution_count": 26,
     "metadata": {},
     "output_type": "execute_result"
    }
   ],
   "source": [
    "names[np.vectorize(f)(names)=='J']"
   ]
  },
  {
   "cell_type": "code",
   "execution_count": 27,
   "id": "321077f8",
   "metadata": {},
   "outputs": [
    {
     "data": {
      "text/plain": [
       "array([ 2,  4,  6,  8, 10])"
      ]
     },
     "execution_count": 27,
     "metadata": {},
     "output_type": "execute_result"
    }
   ],
   "source": [
    "a1"
   ]
  },
  {
   "cell_type": "code",
   "execution_count": 28,
   "id": "ad67814c",
   "metadata": {},
   "outputs": [
    {
     "data": {
      "text/plain": [
       "[array([False,  True, False,  True, False])]"
      ]
     },
     "execution_count": 28,
     "metadata": {},
     "output_type": "execute_result"
    }
   ],
   "source": [
    "[a1%4==0]"
   ]
  },
  {
   "cell_type": "code",
   "execution_count": 29,
   "id": "19bbe6f8",
   "metadata": {},
   "outputs": [
    {
     "data": {
      "text/plain": [
       "array([4, 8])"
      ]
     },
     "execution_count": 29,
     "metadata": {},
     "output_type": "execute_result"
    }
   ],
   "source": [
    "a1[a1%4==0]"
   ]
  },
  {
   "cell_type": "code",
   "execution_count": 30,
   "id": "ba5456a1",
   "metadata": {},
   "outputs": [],
   "source": [
    "#mean at zero and standard deviation at 1\n",
    "a1=2*np.random.randn(10000)+10   #sd two and mean of 10"
   ]
  },
  {
   "cell_type": "code",
   "execution_count": 31,
   "id": "7ec89e05",
   "metadata": {},
   "outputs": [
    {
     "data": {
      "text/plain": [
       "array([11.21188309, 12.36757862,  5.51127332, ...,  8.94271565,\n",
       "       12.76335814, 11.57012929])"
      ]
     },
     "execution_count": 31,
     "metadata": {},
     "output_type": "execute_result"
    }
   ],
   "source": [
    "a1"
   ]
  },
  {
   "cell_type": "code",
   "execution_count": 32,
   "id": "89aef532",
   "metadata": {},
   "outputs": [
    {
     "data": {
      "text/plain": [
       "9.977424314913831"
      ]
     },
     "execution_count": 32,
     "metadata": {},
     "output_type": "execute_result"
    }
   ],
   "source": [
    "np.mean(a1)"
   ]
  },
  {
   "cell_type": "code",
   "execution_count": 33,
   "id": "b89f3673",
   "metadata": {},
   "outputs": [
    {
     "data": {
      "text/plain": [
       "1.9911934427525853"
      ]
     },
     "execution_count": 33,
     "metadata": {},
     "output_type": "execute_result"
    }
   ],
   "source": [
    "np.std(a1)"
   ]
  },
  {
   "cell_type": "code",
   "execution_count": 34,
   "id": "6d18e24d",
   "metadata": {},
   "outputs": [
    {
     "data": {
      "text/plain": [
       "11.656003966452268"
      ]
     },
     "execution_count": 34,
     "metadata": {},
     "output_type": "execute_result"
    }
   ],
   "source": [
    "np.percentile(a1,80) #80 percent numbers are less than 11.664533365711518"
   ]
  },
  {
   "cell_type": "code",
   "execution_count": 35,
   "id": "a51040bd",
   "metadata": {},
   "outputs": [],
   "source": [
    "x=np.linspace(1,10,100)\n",
    "y=1/x**2 * np.sin(x)\n",
    "dydx=np.gradient(y,x)\n",
    "y_int=np.cumsum(y)*(x[1]-x[0])"
   ]
  },
  {
   "cell_type": "code",
   "execution_count": 36,
   "id": "73ea7d60",
   "metadata": {},
   "outputs": [
    {
     "data": {
      "text/plain": [
       "[<matplotlib.lines.Line2D at 0x23803fb5150>]"
      ]
     },
     "execution_count": 36,
     "metadata": {},
     "output_type": "execute_result"
    },
    {
     "data": {
      "image/png": "[encoded data removed]",
      "text/plain": [
       "<Figure size 640x480 with 1 Axes>"
      ]
     },
     "metadata": {},
     "output_type": "display_data"
    }
   ],
   "source": [
    "plt.plot(x,y)\n",
    "plt.plot(x,dydx)\n",
    "plt.plot(x,y_int)"
   ]
  },
  {
   "cell_type": "code",
   "execution_count": 37,
   "id": "fcfe4bef",
   "metadata": {},
   "outputs": [
    {
     "data": {
      "text/plain": [
       "[<matplotlib.lines.Line2D at 0x23803ffdbd0>]"
      ]
     },
     "execution_count": 37,
     "metadata": {},
     "output_type": "execute_result"
    },
    {
     "data": {
      "image/png": "[encoded data removed]",
      "text/plain": [
       "<Figure size 640x480 with 1 Axes>"
      ]
     },
     "metadata": {},
     "output_type": "display_data"
    }
   ],
   "source": [
    "N=10000\n",
    "x=np.linspace(0,10,N+1)\n",
    "y=np.exp(-x/10)*np.sin(x)\n",
    "plt.plot(x,y)"
   ]
  },
  {
   "cell_type": "code",
   "execution_count": 38,
   "id": "c7c357b3",
   "metadata": {},
   "outputs": [
    {
     "data": {
      "text/plain": [
       "-0.2956023068963138"
      ]
     },
     "execution_count": 38,
     "metadata": {},
     "output_type": "execute_result"
    }
   ],
   "source": [
    "#mean and standard deviation \n",
    "y[(x>=4)*(x<=7)]\n",
    "np.mean(y[(x>=4)*(x<=7)])"
   ]
  },
  {
   "cell_type": "code",
   "execution_count": 39,
   "id": "1531d4ca",
   "metadata": {},
   "outputs": [
    {
     "data": {
      "text/plain": [
       "0.31448753875085117"
      ]
     },
     "execution_count": 39,
     "metadata": {},
     "output_type": "execute_result"
    }
   ],
   "source": [
    "np.std(y[(x>=4)*(x<=7)])"
   ]
  },
  {
   "cell_type": "code",
   "execution_count": 40,
   "id": "3b83feec",
   "metadata": {},
   "outputs": [
    {
     "data": {
      "text/plain": [
       "0.31448753875085117"
      ]
     },
     "execution_count": 40,
     "metadata": {},
     "output_type": "execute_result"
    }
   ],
   "source": [
    "np.percentile(np.std(y[(x>=4)*(x<=7)]),80)"
   ]
  },
  {
   "cell_type": "code",
   "execution_count": 41,
   "id": "6ae22be4",
   "metadata": {},
   "outputs": [
    {
     "data": {
      "text/plain": [
       "[<matplotlib.lines.Line2D at 0x23805986510>]"
      ]
     },
     "execution_count": 41,
     "metadata": {},
     "output_type": "execute_result"
    },
    {
     "data": {
      "image/png": "[encoded data removed]",
      "text/plain": [
       "<Figure size 640x480 with 1 Axes>"
      ]
     },
     "metadata": {},
     "output_type": "display_data"
    }
   ],
   "source": [
    "plt.plot(x,np.gradient(y,x))\n"
   ]
  },
  {
   "cell_type": "code",
   "execution_count": 42,
   "id": "eac11aac",
   "metadata": {},
   "outputs": [
    {
     "data": {
      "text/plain": [
       "array([ 0.99989984,  0.99979935,  0.9995979 , ..., -0.28918296,\n",
       "       -0.28892346, -0.28879364])"
      ]
     },
     "execution_count": 42,
     "metadata": {},
     "output_type": "execute_result"
    }
   ],
   "source": [
    "dydx=np.gradient(y,x)\n",
    "dydx\n"
   ]
  },
  {
   "cell_type": "code",
   "execution_count": 43,
   "id": "0f1db4ff",
   "metadata": {},
   "outputs": [
    {
     "data": {
      "text/plain": [
       "array([ 0.99979935,  0.9995979 ,  0.99939548, ..., -0.28918296,\n",
       "       -0.28892346, -0.28879364])"
      ]
     },
     "execution_count": 43,
     "metadata": {},
     "output_type": "execute_result"
    }
   ],
   "source": [
    "dydx[1:]"
   ]
  },
  {
   "cell_type": "code",
   "execution_count": 44,
   "id": "348f2e44",
   "metadata": {},
   "outputs": [
    {
     "data": {
      "text/plain": [
       "array([ 0.99989984,  0.99979935,  0.9995979 , ..., -0.28944223,\n",
       "       -0.28918296, -0.28892346])"
      ]
     },
     "execution_count": 44,
     "metadata": {},
     "output_type": "execute_result"
    }
   ],
   "source": [
    "dydx[:-1]"
   ]
  },
  {
   "cell_type": "code",
   "execution_count": 45,
   "id": "8a9833d4",
   "metadata": {},
   "outputs": [
    {
     "data": {
      "text/plain": [
       "array([False, False, False, ..., False, False, False])"
      ]
     },
     "execution_count": 45,
     "metadata": {},
     "output_type": "execute_result"
    }
   ],
   "source": [
    "dydx[1:]*dydx[:-1]<0"
   ]
  },
  {
   "cell_type": "code",
   "execution_count": 46,
   "id": "9b20042c",
   "metadata": {},
   "outputs": [
    {
     "data": {
      "text/plain": [
       "array([1.472, 4.613, 7.755])"
      ]
     },
     "execution_count": 46,
     "metadata": {},
     "output_type": "execute_result"
    }
   ],
   "source": [
    "x[1:][dydx[1:]*dydx[:-1]<0]"
   ]
  },
  {
   "cell_type": "code",
   "execution_count": 47,
   "id": "88d481f3",
   "metadata": {},
   "outputs": [
    {
     "data": {
      "text/plain": [
       "array([ 1,  2,  3,  5,  6,  9, 10, 11, 13, 15, 17, 18, 19, 22, 23, 25, 26,\n",
       "       27, 29, 30, 31, 33, 34, 37, 38, 39, 41, 43, 45, 46])"
      ]
     },
     "execution_count": 47,
     "metadata": {},
     "output_type": "execute_result"
    }
   ],
   "source": [
    "nums=np.arange(0,10001,1)\n",
    "nums[(nums%4!=0)*(nums%7!=0)][:30]"
   ]
  },
  {
   "cell_type": "code",
   "execution_count": 48,
   "id": "dcad3d39",
   "metadata": {},
   "outputs": [
    {
     "data": {
      "text/plain": [
       "698"
      ]
     },
     "execution_count": 48,
     "metadata": {},
     "output_type": "execute_result"
    }
   ],
   "source": [
    "sum(nums[(nums%4!=0)*(nums%7!=0)][:30])"
   ]
  },
  {
   "cell_type": "code",
   "execution_count": 49,
   "id": "449a667f",
   "metadata": {},
   "outputs": [],
   "source": [
    "theta=np.linspace(0,2*np.pi,1000)\n",
    "r=1+ 3/4 * np.sin(3*theta)\n"
   ]
  },
  {
   "cell_type": "code",
   "execution_count": 50,
   "id": "50886937",
   "metadata": {},
   "outputs": [
    {
     "data": {
      "text/plain": [
       "[<matplotlib.lines.Line2D at 0x238059ce110>]"
      ]
     },
     "execution_count": 50,
     "metadata": {},
     "output_type": "execute_result"
    },
    {
     "data": {
      "image/png": "[encoded data removed]",
      "text/plain": [
       "<Figure size 640x480 with 1 Axes>"
      ]
     },
     "metadata": {},
     "output_type": "display_data"
    }
   ],
   "source": [
    "x=r*np.cos(theta)\n",
    "y=r*np.sin(theta)\n",
    "plt.plot(x,y)"
   ]
  },
  {
   "cell_type": "code",
   "execution_count": 51,
   "id": "56de03db",
   "metadata": {},
   "outputs": [
    {
     "data": {
      "text/plain": [
       "4.028310324802908"
      ]
     },
     "execution_count": 51,
     "metadata": {},
     "output_type": "execute_result"
    }
   ],
   "source": [
    "A=1/2*sum(r**2)*(theta[1]-theta[0])\n",
    "A"
   ]
  },
  {
   "cell_type": "code",
   "execution_count": 52,
   "id": "e26224d9",
   "metadata": {},
   "outputs": [
    {
     "data": {
      "text/plain": [
       "11.640021569013872"
      ]
     },
     "execution_count": 52,
     "metadata": {},
     "output_type": "execute_result"
    }
   ],
   "source": [
    "sum(np.sqrt(r**2+np.gradient(r,theta)**2))*(theta[1]-theta[0])"
   ]
  },
  {
   "cell_type": "code",
   "execution_count": 53,
   "id": "4737a2d1",
   "metadata": {},
   "outputs": [],
   "source": [
    "kt=np.linspace(0,3,100)\n",
    "p=(1/(1+np.exp(-kt)))**4\n",
    "E=np.cumsum(p)*(kt[1]-kt[0])"
   ]
  },
  {
   "cell_type": "code",
   "execution_count": 54,
   "id": "eb86efbf",
   "metadata": {},
   "outputs": [
    {
     "data": {
      "text/plain": [
       "[<matplotlib.lines.Line2D at 0x23805845190>]"
      ]
     },
     "execution_count": 54,
     "metadata": {},
     "output_type": "execute_result"
    },
    {
     "data": {
      "image/png": "[encoded data removed]",
      "text/plain": [
       "<Figure size 640x480 with 1 Axes>"
      ]
     },
     "metadata": {},
     "output_type": "display_data"
    }
   ],
   "source": [
    "plt.plot(kt,p)\n",
    "plt.plot(kt,E)"
   ]
  },
  {
   "cell_type": "code",
   "execution_count": 55,
   "id": "3e59e464",
   "metadata": {},
   "outputs": [
    {
     "data": {
      "text/plain": [
       "array([[4, 6, 4],\n",
       "       [1, 2, 2],\n",
       "       [6, 8, 7]])"
      ]
     },
     "execution_count": 55,
     "metadata": {},
     "output_type": "execute_result"
    }
   ],
   "source": [
    "a1=np.array([[4,6,4],[1,2,2],[6,8,7]])\n",
    "a1"
   ]
  },
  {
   "cell_type": "code",
   "execution_count": 56,
   "id": "683558a9",
   "metadata": {},
   "outputs": [
    {
     "data": {
      "text/plain": [
       "array([4, 6, 4, 1, 2, 2, 6, 8, 7])"
      ]
     },
     "execution_count": 56,
     "metadata": {},
     "output_type": "execute_result"
    }
   ],
   "source": [
    "a1.ravel()"
   ]
  },
  {
   "cell_type": "code",
   "execution_count": 57,
   "id": "f7710646",
   "metadata": {},
   "outputs": [
    {
     "data": {
      "text/plain": [
       "array([[0.73998061, 0.52129738, 0.44353184],\n",
       "       [0.68719511, 0.88493735, 1.05741236],\n",
       "       [0.39952163, 0.1447864 , 1.14497017]])"
      ]
     },
     "execution_count": 57,
     "metadata": {},
     "output_type": "execute_result"
    }
   ],
   "source": [
    "a2=np.random.randn(3,3)\n",
    "a2\n"
   ]
  },
  {
   "cell_type": "code",
   "execution_count": 58,
   "id": "7cd4efb1",
   "metadata": {},
   "outputs": [
    {
     "data": {
      "text/plain": [
       "array([0.52129738, 0.39952163, 0.1447864 , 1.14497017])"
      ]
     },
     "execution_count": 58,
     "metadata": {},
     "output_type": "execute_result"
    }
   ],
   "source": [
    "\n",
    "a2[a1>5]"
   ]
  },
  {
   "cell_type": "code",
   "execution_count": 59,
   "id": "78325b32",
   "metadata": {},
   "outputs": [
    {
     "data": {
      "text/plain": [
       "array([4, 6, 4])"
      ]
     },
     "execution_count": 59,
     "metadata": {},
     "output_type": "execute_result"
    }
   ],
   "source": [
    "a1[0]"
   ]
  },
  {
   "cell_type": "code",
   "execution_count": 60,
   "id": "49f623a3",
   "metadata": {},
   "outputs": [
    {
     "data": {
      "text/plain": [
       "array([4, 1, 6])"
      ]
     },
     "execution_count": 60,
     "metadata": {},
     "output_type": "execute_result"
    }
   ],
   "source": [
    "a1[:,0]"
   ]
  },
  {
   "cell_type": "code",
   "execution_count": 61,
   "id": "3731d9d1",
   "metadata": {},
   "outputs": [
    {
     "data": {
      "text/plain": [
       "array([2, 8])"
      ]
     },
     "execution_count": 61,
     "metadata": {},
     "output_type": "execute_result"
    }
   ],
   "source": [
    "a1[1:,1]"
   ]
  },
  {
   "cell_type": "code",
   "execution_count": 62,
   "id": "c842da80",
   "metadata": {},
   "outputs": [
    {
     "data": {
      "text/plain": [
       "array([[4, 6, 4],\n",
       "       [1, 2, 2],\n",
       "       [6, 8, 7]])"
      ]
     },
     "execution_count": 62,
     "metadata": {},
     "output_type": "execute_result"
    }
   ],
   "source": [
    "a1"
   ]
  },
  {
   "cell_type": "code",
   "execution_count": 63,
   "id": "7bec0d1a",
   "metadata": {},
   "outputs": [
    {
     "data": {
      "text/plain": [
       "array([[1, 2],\n",
       "       [6, 8]])"
      ]
     },
     "execution_count": 63,
     "metadata": {},
     "output_type": "execute_result"
    }
   ],
   "source": [
    "a1[1:,:2]"
   ]
  },
  {
   "cell_type": "code",
   "execution_count": 64,
   "id": "535f1cb3",
   "metadata": {},
   "outputs": [],
   "source": [
    "x=np.linspace(0,10,1000)\n",
    "y=np.linspace(0,10,1000)\n"
   ]
  },
  {
   "cell_type": "code",
   "execution_count": 65,
   "id": "bf4c0b48",
   "metadata": {},
   "outputs": [
    {
     "data": {
      "text/plain": [
       "array([[ 0.        ,  0.01001001,  0.02002002, ...,  9.97997998,\n",
       "         9.98998999, 10.        ],\n",
       "       [ 0.        ,  0.01001001,  0.02002002, ...,  9.97997998,\n",
       "         9.98998999, 10.        ],\n",
       "       [ 0.        ,  0.01001001,  0.02002002, ...,  9.97997998,\n",
       "         9.98998999, 10.        ],\n",
       "       ...,\n",
       "       [ 0.        ,  0.01001001,  0.02002002, ...,  9.97997998,\n",
       "         9.98998999, 10.        ],\n",
       "       [ 0.        ,  0.01001001,  0.02002002, ...,  9.97997998,\n",
       "         9.98998999, 10.        ],\n",
       "       [ 0.        ,  0.01001001,  0.02002002, ...,  9.97997998,\n",
       "         9.98998999, 10.        ]])"
      ]
     },
     "execution_count": 65,
     "metadata": {},
     "output_type": "execute_result"
    }
   ],
   "source": [
    "xv,yv=np.meshgrid(x,y)\n",
    "xv"
   ]
  },
  {
   "cell_type": "code",
   "execution_count": 66,
   "id": "d438a93d",
   "metadata": {},
   "outputs": [
    {
     "data": {
      "text/plain": [
       "array([[ 0.        ,  0.        ,  0.        , ...,  0.        ,\n",
       "         0.        ,  0.        ],\n",
       "       [ 0.01001001,  0.01001001,  0.01001001, ...,  0.01001001,\n",
       "         0.01001001,  0.01001001],\n",
       "       [ 0.02002002,  0.02002002,  0.02002002, ...,  0.02002002,\n",
       "         0.02002002,  0.02002002],\n",
       "       ...,\n",
       "       [ 9.97997998,  9.97997998,  9.97997998, ...,  9.97997998,\n",
       "         9.97997998,  9.97997998],\n",
       "       [ 9.98998999,  9.98998999,  9.98998999, ...,  9.98998999,\n",
       "         9.98998999,  9.98998999],\n",
       "       [10.        , 10.        , 10.        , ..., 10.        ,\n",
       "        10.        , 10.        ]])"
      ]
     },
     "execution_count": 66,
     "metadata": {},
     "output_type": "execute_result"
    }
   ],
   "source": [
    "yv"
   ]
  },
  {
   "cell_type": "code",
   "execution_count": 67,
   "id": "839f13c6",
   "metadata": {},
   "outputs": [
    {
     "data": {
      "text/plain": [
       "array([[0.00000000e+00, 1.00200300e-04, 4.00801202e-04, ...,\n",
       "        9.96000004e+01, 9.97999000e+01, 1.00000000e+02],\n",
       "       [1.00200300e-04, 2.00400601e-04, 5.01001502e-04, ...,\n",
       "        9.96001006e+01, 9.98000002e+01, 1.00000100e+02],\n",
       "       [4.00801202e-04, 5.01001502e-04, 8.01602403e-04, ...,\n",
       "        9.96004012e+01, 9.98003008e+01, 1.00000401e+02],\n",
       "       ...,\n",
       "       [9.96000004e+01, 9.96001006e+01, 9.96004012e+01, ...,\n",
       "        1.99200001e+02, 1.99399900e+02, 1.99600000e+02],\n",
       "       [9.97999000e+01, 9.98000002e+01, 9.98003008e+01, ...,\n",
       "        1.99399900e+02, 1.99599800e+02, 1.99799900e+02],\n",
       "       [1.00000000e+02, 1.00000100e+02, 1.00000401e+02, ...,\n",
       "        1.99600000e+02, 1.99799900e+02, 2.00000000e+02]])"
      ]
     },
     "execution_count": 67,
     "metadata": {},
     "output_type": "execute_result"
    }
   ],
   "source": [
    "zv=xv**2+yv**2\n",
    "zv"
   ]
  },
  {
   "cell_type": "code",
   "execution_count": 68,
   "id": "fd39106d",
   "metadata": {},
   "outputs": [
    {
     "data": {
      "text/plain": [
       "<matplotlib.colorbar.Colorbar at 0x2380696ed90>"
      ]
     },
     "execution_count": 68,
     "metadata": {},
     "output_type": "execute_result"
    },
    {
     "data": {
      "image/png": "[encoded data removed]",
      "text/plain": [
       "<Figure size 640x480 with 2 Axes>"
      ]
     },
     "metadata": {},
     "output_type": "display_data"
    }
   ],
   "source": [
    "plt.contourf(xv,yv,zv,levels=30)\n",
    "plt.colorbar()"
   ]
  },
  {
   "cell_type": "code",
   "execution_count": 69,
   "id": "88c3f6a7",
   "metadata": {},
   "outputs": [
    {
     "data": {
      "text/plain": [
       "array([[ 3,  2,  1],\n",
       "       [ 5, -5,  4],\n",
       "       [ 6,  0,  1]])"
      ]
     },
     "execution_count": 69,
     "metadata": {},
     "output_type": "execute_result"
    }
   ],
   "source": [
    "A=np.array([[3,2,1],[5,-5,4],[6,0,1]])\n",
    "A"
   ]
  },
  {
   "cell_type": "code",
   "execution_count": 70,
   "id": "c47e840e",
   "metadata": {},
   "outputs": [],
   "source": [
    "b1=np.array([1,2,3])\n",
    "b2=np.array([-1,2,-5])\n"
   ]
  },
  {
   "cell_type": "code",
   "execution_count": 71,
   "id": "6088a55a",
   "metadata": {},
   "outputs": [
    {
     "data": {
      "text/plain": [
       "array([10,  7,  9])"
      ]
     },
     "execution_count": 71,
     "metadata": {},
     "output_type": "execute_result"
    }
   ],
   "source": [
    "A@b1"
   ]
  },
  {
   "cell_type": "code",
   "execution_count": 72,
   "id": "6bc6c61a",
   "metadata": {},
   "outputs": [
    {
     "data": {
      "text/plain": [
       "array([[ 3,  5,  6],\n",
       "       [ 2, -5,  0],\n",
       "       [ 1,  4,  1]])"
      ]
     },
     "execution_count": 72,
     "metadata": {},
     "output_type": "execute_result"
    }
   ],
   "source": [
    "A.T"
   ]
  },
  {
   "cell_type": "code",
   "execution_count": 73,
   "id": "daa82366",
   "metadata": {},
   "outputs": [
    {
     "data": {
      "text/plain": [
       "-12"
      ]
     },
     "execution_count": 73,
     "metadata": {},
     "output_type": "execute_result"
    }
   ],
   "source": [
    "np.dot(b1,b2)"
   ]
  },
  {
   "cell_type": "code",
   "execution_count": 74,
   "id": "34fd274f",
   "metadata": {},
   "outputs": [
    {
     "data": {
      "text/plain": [
       "array([-16,   2,   4])"
      ]
     },
     "execution_count": 74,
     "metadata": {},
     "output_type": "execute_result"
    }
   ],
   "source": [
    "np.cross(b1,b2)"
   ]
  },
  {
   "cell_type": "code",
   "execution_count": 75,
   "id": "d64db1e3",
   "metadata": {},
   "outputs": [],
   "source": [
    "A=np.array([[3,2,1],[5,-5,4],[6,0,1]])\n",
    "C=np.array([4,3,0])"
   ]
  },
  {
   "cell_type": "code",
   "execution_count": 76,
   "id": "5f8b6599",
   "metadata": {},
   "outputs": [
    {
     "data": {
      "text/plain": [
       "array([-0.49056604,  1.26415094,  2.94339623])"
      ]
     },
     "execution_count": 76,
     "metadata": {},
     "output_type": "execute_result"
    }
   ],
   "source": [
    "np.linalg.solve(A,C)"
   ]
  },
  {
   "cell_type": "code",
   "execution_count": 77,
   "id": "ab10cde2",
   "metadata": {},
   "outputs": [
    {
     "data": {
      "text/plain": [
       "array([[4, 2, 2],\n",
       "       [2, 4, 2],\n",
       "       [2, 2, 4]])"
      ]
     },
     "execution_count": 77,
     "metadata": {},
     "output_type": "execute_result"
    }
   ],
   "source": [
    "A=np.array([[4,2,2],[2,4,2],[2,2,4]])\n",
    "A"
   ]
  },
  {
   "cell_type": "code",
   "execution_count": 78,
   "id": "40c3a09a",
   "metadata": {},
   "outputs": [],
   "source": [
    "w,v=np.linalg.eig(A)"
   ]
  },
  {
   "cell_type": "code",
   "execution_count": 79,
   "id": "dad55b08",
   "metadata": {},
   "outputs": [
    {
     "data": {
      "text/plain": [
       "array([2., 8., 2.])"
      ]
     },
     "execution_count": 79,
     "metadata": {},
     "output_type": "execute_result"
    }
   ],
   "source": [
    "w"
   ]
  },
  {
   "cell_type": "code",
   "execution_count": 80,
   "id": "8a480e4e",
   "metadata": {},
   "outputs": [
    {
     "data": {
      "text/plain": [
       "array([[-0.81649658,  0.57735027, -0.23513651],\n",
       "       [ 0.40824829,  0.57735027, -0.55958248],\n",
       "       [ 0.40824829,  0.57735027,  0.79471899]])"
      ]
     },
     "execution_count": 80,
     "metadata": {},
     "output_type": "execute_result"
    }
   ],
   "source": [
    "v"
   ]
  },
  {
   "cell_type": "code",
   "execution_count": 81,
   "id": "82e950a2",
   "metadata": {},
   "outputs": [],
   "source": [
    "v1=v[:,0]"
   ]
  },
  {
   "cell_type": "code",
   "execution_count": 82,
   "id": "253d7574",
   "metadata": {},
   "outputs": [
    {
     "data": {
      "text/plain": [
       "array([-1.63299316,  0.81649658,  0.81649658])"
      ]
     },
     "execution_count": 82,
     "metadata": {},
     "output_type": "execute_result"
    }
   ],
   "source": [
    "A@v1"
   ]
  },
  {
   "cell_type": "code",
   "execution_count": 83,
   "id": "dcce7305",
   "metadata": {},
   "outputs": [
    {
     "data": {
      "text/plain": [
       "array([-1.63299316,  0.81649658,  0.81649658])"
      ]
     },
     "execution_count": 83,
     "metadata": {},
     "output_type": "execute_result"
    }
   ],
   "source": [
    "w[0]*v1"
   ]
  },
  {
   "cell_type": "code",
   "execution_count": null,
   "id": "2edadc66",
   "metadata": {},
   "outputs": [],
   "source": []
  },
  {
   "cell_type": "code",
   "execution_count": 84,
   "id": "b0da6efa",
   "metadata": {},
   "outputs": [
    {
     "data": {
      "text/plain": [
       "<matplotlib.colorbar.Colorbar at 0x238059ccd50>"
      ]
     },
     "execution_count": 84,
     "metadata": {},
     "output_type": "execute_result"
    },
    {
     "data": {
      "image/png": "[encoded data removed]",
      "text/plain": [
       "<Figure size 640x480 with 2 Axes>"
      ]
     },
     "metadata": {},
     "output_type": "display_data"
    }
   ],
   "source": [
    "x=np.linspace(-2,2,1000)\n",
    "y=np.linspace(-2,2,1000)\n",
    "xv,yv=np.meshgrid(x,y)\n",
    "f=np.exp(-(xv**2+yv**2))*np.sin(xv)\n",
    "plt.contourf(xv,yv,f,levels=100)\n",
    "plt.colorbar()"
   ]
  },
  {
   "cell_type": "code",
   "execution_count": 85,
   "id": "0699abab",
   "metadata": {},
   "outputs": [
    {
     "data": {
      "text/plain": [
       "1.4861858145124311"
      ]
     },
     "execution_count": 85,
     "metadata": {},
     "output_type": "execute_result"
    }
   ],
   "source": [
    "np.abs(f.ravel()).sum()*np.diff(x)[0]*np.diff(y)[0]"
   ]
  },
  {
   "cell_type": "code",
   "execution_count": 86,
   "id": "49d6cc0d",
   "metadata": {},
   "outputs": [
    {
     "data": {
      "text/plain": [
       "array([-0.00030504, -0.00031052, -0.00031609, ...,  0.00031609,\n",
       "        0.00031052,  0.00030504])"
      ]
     },
     "execution_count": 86,
     "metadata": {},
     "output_type": "execute_result"
    }
   ],
   "source": [
    "f[xv**2+yv**2>0.5**2]"
   ]
  },
  {
   "cell_type": "code",
   "execution_count": 87,
   "id": "6810eaf7",
   "metadata": {},
   "outputs": [
    {
     "data": {
      "text/plain": [
       "1.3447652930203164"
      ]
     },
     "execution_count": 87,
     "metadata": {},
     "output_type": "execute_result"
    }
   ],
   "source": [
    "np.abs(f[xv**2+yv**2>0.5**2].ravel()).sum()*np.diff(x)[0]*np.diff(y)[0]"
   ]
  },
  {
   "cell_type": "code",
   "execution_count": 88,
   "id": "54fafcec",
   "metadata": {},
   "outputs": [
    {
     "data": {
      "text/plain": [
       "array([[ 3,  2,  3, 10],\n",
       "       [ 2, -2,  5,  8],\n",
       "       [ 3,  3,  4,  9],\n",
       "       [ 3,  4, -3, -7]])"
      ]
     },
     "execution_count": 88,
     "metadata": {},
     "output_type": "execute_result"
    }
   ],
   "source": [
    "A=np.array([[3,2,3,10],[2,-2,5,8],[3,3,4,9],[3,4,-3,-7]])\n",
    "A"
   ]
  },
  {
   "cell_type": "code",
   "execution_count": 89,
   "id": "49a73097",
   "metadata": {},
   "outputs": [
    {
     "data": {
      "text/plain": [
       "array([4, 1, 3, 2])"
      ]
     },
     "execution_count": 89,
     "metadata": {},
     "output_type": "execute_result"
    }
   ],
   "source": [
    "C=np.array([4,1,3,2])\n",
    "C"
   ]
  },
  {
   "cell_type": "code",
   "execution_count": 90,
   "id": "02ebc35b",
   "metadata": {},
   "outputs": [
    {
     "data": {
      "text/plain": [
       "array([ 0.78378378,  0.03603604, -0.67567568,  0.36036036])"
      ]
     },
     "execution_count": 90,
     "metadata": {},
     "output_type": "execute_result"
    }
   ],
   "source": [
    "np.linalg.solve(A,C)"
   ]
  },
  {
   "cell_type": "code",
   "execution_count": 91,
   "id": "54f93b78",
   "metadata": {},
   "outputs": [],
   "source": [
    "z=np.linspace(0,4*np.pi,100)\n",
    "t=np.linspace(0,10,100)\n",
    "tv,zv=np.meshgrid(t,z)"
   ]
  },
  {
   "cell_type": "code",
   "execution_count": 92,
   "id": "a4697519",
   "metadata": {},
   "outputs": [],
   "source": [
    "Ex=np.cos(zv-tv)\n",
    "Ey=2*np.cos(zv-tv + np.pi/2)\n",
    "Ez=0*tv"
   ]
  },
  {
   "cell_type": "code",
   "execution_count": 93,
   "id": "cea81984",
   "metadata": {},
   "outputs": [
    {
     "data": {
      "text/plain": [
       "[<matplotlib.lines.Line2D at 0x2380ac7a650>]"
      ]
     },
     "execution_count": 93,
     "metadata": {},
     "output_type": "execute_result"
    },
    {
     "data": {
      "image/png": "[encoded data removed]",
      "text/plain": [
       "<Figure size 640x480 with 1 Axes>"
      ]
     },
     "metadata": {},
     "output_type": "display_data"
    }
   ],
   "source": [
    "plt.plot(t,Ex[0])#z=0\n"
   ]
  },
  {
   "cell_type": "code",
   "execution_count": 94,
   "id": "d9e96419",
   "metadata": {},
   "outputs": [
    {
     "data": {
      "text/plain": [
       "[<matplotlib.lines.Line2D at 0x2380ad09a90>]"
      ]
     },
     "execution_count": 94,
     "metadata": {},
     "output_type": "execute_result"
    },
    {
     "data": {
      "image/png": "[encoded data removed]",
      "text/plain": [
       "<Figure size 640x480 with 1 Axes>"
      ]
     },
     "metadata": {},
     "output_type": "display_data"
    }
   ],
   "source": [
    "plt.plot(t,Ex[:,0])"
   ]
  },
  {
   "cell_type": "code",
   "execution_count": 95,
   "id": "9936537a",
   "metadata": {},
   "outputs": [
    {
     "data": {
      "text/plain": [
       "array([[[ 1.00000000e+00,  9.94902816e-01,  9.79663226e-01, ...,\n",
       "         -9.31164735e-01, -8.89652856e-01, -8.39071529e-01],\n",
       "        [ 9.91954813e-01,  9.99664020e-01,  9.97182283e-01, ...,\n",
       "         -9.69828789e-01, -9.40302293e-01, -9.01190009e-01],\n",
       "        [ 9.67948701e-01,  9.88340255e-01,  9.98656304e-01, ...,\n",
       "         -9.92887934e-01, -9.75821913e-01, -9.48808004e-01],\n",
       "        ...,\n",
       "        [ 9.67948701e-01,  9.37689522e-01,  8.97871191e-01, ...,\n",
       "         -8.09751458e-01, -7.46454741e-01, -6.75548390e-01],\n",
       "        [ 9.91954813e-01,  9.74133253e-01,  9.46381021e-01, ...,\n",
       "         -8.77517892e-01, -8.24688573e-01, -7.63452074e-01],\n",
       "        [ 1.00000000e+00,  9.94902816e-01,  9.79663226e-01, ...,\n",
       "         -9.31164735e-01, -8.89652856e-01, -8.39071529e-01]],\n",
       "\n",
       "       [[ 1.22464680e-16,  2.01676841e-01,  4.01297713e-01, ...,\n",
       "         -7.29197467e-01, -9.13274975e-01, -1.08804222e+00],\n",
       "        [-2.53184907e-01, -5.18400645e-02,  1.50033255e-01, ...,\n",
       "         -4.87574080e-01, -6.80680831e-01, -8.66848471e-01],\n",
       "        [-5.02295974e-01, -3.04522843e-01, -1.03645294e-01, ...,\n",
       "         -2.38105444e-01, -4.37134278e-01, -6.31706804e-01],\n",
       "        ...,\n",
       "        [ 5.02295974e-01,  6.94948515e-01,  8.80516495e-01, ...,\n",
       "         -1.17354604e+00, -1.33087237e+00, -1.47463131e+00],\n",
       "        [ 2.53184907e-01,  4.51948690e-01,  6.46105141e-01, ...,\n",
       "         -9.59087794e-01, -1.13117418e+00, -1.29172897e+00],\n",
       "        [ 1.10218212e-15,  2.01676841e-01,  4.01297713e-01, ...,\n",
       "         -7.29197467e-01, -9.13274975e-01, -1.08804222e+00]],\n",
       "\n",
       "       [[ 0.00000000e+00,  0.00000000e+00,  0.00000000e+00, ...,\n",
       "          0.00000000e+00,  0.00000000e+00,  0.00000000e+00],\n",
       "        [ 0.00000000e+00,  0.00000000e+00,  0.00000000e+00, ...,\n",
       "          0.00000000e+00,  0.00000000e+00,  0.00000000e+00],\n",
       "        [ 0.00000000e+00,  0.00000000e+00,  0.00000000e+00, ...,\n",
       "          0.00000000e+00,  0.00000000e+00,  0.00000000e+00],\n",
       "        ...,\n",
       "        [ 0.00000000e+00,  0.00000000e+00,  0.00000000e+00, ...,\n",
       "          0.00000000e+00,  0.00000000e+00,  0.00000000e+00],\n",
       "        [ 0.00000000e+00,  0.00000000e+00,  0.00000000e+00, ...,\n",
       "          0.00000000e+00,  0.00000000e+00,  0.00000000e+00],\n",
       "        [ 0.00000000e+00,  0.00000000e+00,  0.00000000e+00, ...,\n",
       "          0.00000000e+00,  0.00000000e+00,  0.00000000e+00]]])"
      ]
     },
     "execution_count": 95,
     "metadata": {},
     "output_type": "execute_result"
    }
   ],
   "source": [
    "E=np.array([Ex,Ey,Ez])\n",
    "E"
   ]
  },
  {
   "cell_type": "code",
   "execution_count": 96,
   "id": "cc7886b4",
   "metadata": {},
   "outputs": [],
   "source": [
    "E=np.swapaxes(E,0,-1)"
   ]
  },
  {
   "cell_type": "code",
   "execution_count": 97,
   "id": "8db8e5ff",
   "metadata": {},
   "outputs": [
    {
     "data": {
      "text/plain": [
       "array([[[ 1.00000000e+00,  1.22464680e-16,  0.00000000e+00],\n",
       "        [ 9.91954813e-01, -2.53184907e-01,  0.00000000e+00],\n",
       "        [ 9.67948701e-01, -5.02295974e-01,  0.00000000e+00],\n",
       "        ...,\n",
       "        [ 9.67948701e-01,  5.02295974e-01,  0.00000000e+00],\n",
       "        [ 9.91954813e-01,  2.53184907e-01,  0.00000000e+00],\n",
       "        [ 1.00000000e+00,  1.10218212e-15,  0.00000000e+00]],\n",
       "\n",
       "       [[ 9.94902816e-01,  2.01676841e-01,  0.00000000e+00],\n",
       "        [ 9.99664020e-01, -5.18400645e-02,  0.00000000e+00],\n",
       "        [ 9.88340255e-01, -3.04522843e-01,  0.00000000e+00],\n",
       "        ...,\n",
       "        [ 9.37689522e-01,  6.94948515e-01,  0.00000000e+00],\n",
       "        [ 9.74133253e-01,  4.51948690e-01,  0.00000000e+00],\n",
       "        [ 9.94902816e-01,  2.01676841e-01,  0.00000000e+00]],\n",
       "\n",
       "       [[ 9.79663226e-01,  4.01297713e-01,  0.00000000e+00],\n",
       "        [ 9.97182283e-01,  1.50033255e-01,  0.00000000e+00],\n",
       "        [ 9.98656304e-01, -1.03645294e-01,  0.00000000e+00],\n",
       "        ...,\n",
       "        [ 8.97871191e-01,  8.80516495e-01,  0.00000000e+00],\n",
       "        [ 9.46381021e-01,  6.46105141e-01,  0.00000000e+00],\n",
       "        [ 9.79663226e-01,  4.01297713e-01,  0.00000000e+00]],\n",
       "\n",
       "       ...,\n",
       "\n",
       "       [[-9.31164735e-01, -7.29197467e-01,  0.00000000e+00],\n",
       "        [-9.69828789e-01, -4.87574080e-01,  0.00000000e+00],\n",
       "        [-9.92887934e-01, -2.38105444e-01,  0.00000000e+00],\n",
       "        ...,\n",
       "        [-8.09751458e-01, -1.17354604e+00,  0.00000000e+00],\n",
       "        [-8.77517892e-01, -9.59087794e-01,  0.00000000e+00],\n",
       "        [-9.31164735e-01, -7.29197467e-01,  0.00000000e+00]],\n",
       "\n",
       "       [[-8.89652856e-01, -9.13274975e-01,  0.00000000e+00],\n",
       "        [-9.40302293e-01, -6.80680831e-01,  0.00000000e+00],\n",
       "        [-9.75821913e-01, -4.37134278e-01,  0.00000000e+00],\n",
       "        ...,\n",
       "        [-7.46454741e-01, -1.33087237e+00,  0.00000000e+00],\n",
       "        [-8.24688573e-01, -1.13117418e+00,  0.00000000e+00],\n",
       "        [-8.89652856e-01, -9.13274975e-01,  0.00000000e+00]],\n",
       "\n",
       "       [[-8.39071529e-01, -1.08804222e+00,  0.00000000e+00],\n",
       "        [-9.01190009e-01, -8.66848471e-01,  0.00000000e+00],\n",
       "        [-9.48808004e-01, -6.31706804e-01,  0.00000000e+00],\n",
       "        ...,\n",
       "        [-6.75548390e-01, -1.47463131e+00,  0.00000000e+00],\n",
       "        [-7.63452074e-01, -1.29172897e+00,  0.00000000e+00],\n",
       "        [-8.39071529e-01, -1.08804222e+00,  0.00000000e+00]]])"
      ]
     },
     "execution_count": 97,
     "metadata": {},
     "output_type": "execute_result"
    }
   ],
   "source": [
    "E"
   ]
  },
  {
   "cell_type": "code",
   "execution_count": 98,
   "id": "0492801e",
   "metadata": {},
   "outputs": [
    {
     "data": {
      "text/plain": [
       "array([[[-1.22464680e-16,  1.00000000e+00,  0.00000000e+00],\n",
       "        [ 2.53184907e-01,  9.91954813e-01, -0.00000000e+00],\n",
       "        [ 5.02295974e-01,  9.67948701e-01, -0.00000000e+00],\n",
       "        ...,\n",
       "        [-5.02295974e-01,  9.67948701e-01,  0.00000000e+00],\n",
       "        [-2.53184907e-01,  9.91954813e-01,  0.00000000e+00],\n",
       "        [-1.10218212e-15,  1.00000000e+00,  0.00000000e+00]],\n",
       "\n",
       "       [[-2.01676841e-01,  9.94902816e-01,  0.00000000e+00],\n",
       "        [ 5.18400645e-02,  9.99664020e-01, -0.00000000e+00],\n",
       "        [ 3.04522843e-01,  9.88340255e-01, -0.00000000e+00],\n",
       "        ...,\n",
       "        [-6.94948515e-01,  9.37689522e-01,  0.00000000e+00],\n",
       "        [-4.51948690e-01,  9.74133253e-01,  0.00000000e+00],\n",
       "        [-2.01676841e-01,  9.94902816e-01,  0.00000000e+00]],\n",
       "\n",
       "       [[-4.01297713e-01,  9.79663226e-01,  0.00000000e+00],\n",
       "        [-1.50033255e-01,  9.97182283e-01,  0.00000000e+00],\n",
       "        [ 1.03645294e-01,  9.98656304e-01, -0.00000000e+00],\n",
       "        ...,\n",
       "        [-8.80516495e-01,  8.97871191e-01,  0.00000000e+00],\n",
       "        [-6.46105141e-01,  9.46381021e-01,  0.00000000e+00],\n",
       "        [-4.01297713e-01,  9.79663226e-01,  0.00000000e+00]],\n",
       "\n",
       "       ...,\n",
       "\n",
       "       [[ 7.29197467e-01, -9.31164735e-01,  0.00000000e+00],\n",
       "        [ 4.87574080e-01, -9.69828789e-01,  0.00000000e+00],\n",
       "        [ 2.38105444e-01, -9.92887934e-01,  0.00000000e+00],\n",
       "        ...,\n",
       "        [ 1.17354604e+00, -8.09751458e-01,  0.00000000e+00],\n",
       "        [ 9.59087794e-01, -8.77517892e-01,  0.00000000e+00],\n",
       "        [ 7.29197467e-01, -9.31164735e-01,  0.00000000e+00]],\n",
       "\n",
       "       [[ 9.13274975e-01, -8.89652856e-01,  0.00000000e+00],\n",
       "        [ 6.80680831e-01, -9.40302293e-01,  0.00000000e+00],\n",
       "        [ 4.37134278e-01, -9.75821913e-01,  0.00000000e+00],\n",
       "        ...,\n",
       "        [ 1.33087237e+00, -7.46454741e-01,  0.00000000e+00],\n",
       "        [ 1.13117418e+00, -8.24688573e-01,  0.00000000e+00],\n",
       "        [ 9.13274975e-01, -8.89652856e-01,  0.00000000e+00]],\n",
       "\n",
       "       [[ 1.08804222e+00, -8.39071529e-01,  0.00000000e+00],\n",
       "        [ 8.66848471e-01, -9.01190009e-01,  0.00000000e+00],\n",
       "        [ 6.31706804e-01, -9.48808004e-01,  0.00000000e+00],\n",
       "        ...,\n",
       "        [ 1.47463131e+00, -6.75548390e-01,  0.00000000e+00],\n",
       "        [ 1.29172897e+00, -7.63452074e-01,  0.00000000e+00],\n",
       "        [ 1.08804222e+00, -8.39071529e-01,  0.00000000e+00]]])"
      ]
     },
     "execution_count": 98,
     "metadata": {},
     "output_type": "execute_result"
    }
   ],
   "source": [
    "B=np.cross(np.array([0,0,1]),E)\n",
    "B"
   ]
  },
  {
   "cell_type": "code",
   "execution_count": 99,
   "id": "b8a6fb42",
   "metadata": {},
   "outputs": [
    {
     "data": {
      "text/plain": [
       "array([[[-1.22464680e-16, -2.01676841e-01, -4.01297713e-01, ...,\n",
       "          7.29197467e-01,  9.13274975e-01,  1.08804222e+00],\n",
       "        [ 2.53184907e-01,  5.18400645e-02, -1.50033255e-01, ...,\n",
       "          4.87574080e-01,  6.80680831e-01,  8.66848471e-01],\n",
       "        [ 5.02295974e-01,  3.04522843e-01,  1.03645294e-01, ...,\n",
       "          2.38105444e-01,  4.37134278e-01,  6.31706804e-01],\n",
       "        ...,\n",
       "        [-5.02295974e-01, -6.94948515e-01, -8.80516495e-01, ...,\n",
       "          1.17354604e+00,  1.33087237e+00,  1.47463131e+00],\n",
       "        [-2.53184907e-01, -4.51948690e-01, -6.46105141e-01, ...,\n",
       "          9.59087794e-01,  1.13117418e+00,  1.29172897e+00],\n",
       "        [-1.10218212e-15, -2.01676841e-01, -4.01297713e-01, ...,\n",
       "          7.29197467e-01,  9.13274975e-01,  1.08804222e+00]],\n",
       "\n",
       "       [[ 1.00000000e+00,  9.94902816e-01,  9.79663226e-01, ...,\n",
       "         -9.31164735e-01, -8.89652856e-01, -8.39071529e-01],\n",
       "        [ 9.91954813e-01,  9.99664020e-01,  9.97182283e-01, ...,\n",
       "         -9.69828789e-01, -9.40302293e-01, -9.01190009e-01],\n",
       "        [ 9.67948701e-01,  9.88340255e-01,  9.98656304e-01, ...,\n",
       "         -9.92887934e-01, -9.75821913e-01, -9.48808004e-01],\n",
       "        ...,\n",
       "        [ 9.67948701e-01,  9.37689522e-01,  8.97871191e-01, ...,\n",
       "         -8.09751458e-01, -7.46454741e-01, -6.75548390e-01],\n",
       "        [ 9.91954813e-01,  9.74133253e-01,  9.46381021e-01, ...,\n",
       "         -8.77517892e-01, -8.24688573e-01, -7.63452074e-01],\n",
       "        [ 1.00000000e+00,  9.94902816e-01,  9.79663226e-01, ...,\n",
       "         -9.31164735e-01, -8.89652856e-01, -8.39071529e-01]],\n",
       "\n",
       "       [[ 0.00000000e+00,  0.00000000e+00,  0.00000000e+00, ...,\n",
       "          0.00000000e+00,  0.00000000e+00,  0.00000000e+00],\n",
       "        [-0.00000000e+00, -0.00000000e+00,  0.00000000e+00, ...,\n",
       "          0.00000000e+00,  0.00000000e+00,  0.00000000e+00],\n",
       "        [-0.00000000e+00, -0.00000000e+00, -0.00000000e+00, ...,\n",
       "          0.00000000e+00,  0.00000000e+00,  0.00000000e+00],\n",
       "        ...,\n",
       "        [ 0.00000000e+00,  0.00000000e+00,  0.00000000e+00, ...,\n",
       "          0.00000000e+00,  0.00000000e+00,  0.00000000e+00],\n",
       "        [ 0.00000000e+00,  0.00000000e+00,  0.00000000e+00, ...,\n",
       "          0.00000000e+00,  0.00000000e+00,  0.00000000e+00],\n",
       "        [ 0.00000000e+00,  0.00000000e+00,  0.00000000e+00, ...,\n",
       "          0.00000000e+00,  0.00000000e+00,  0.00000000e+00]]])"
      ]
     },
     "execution_count": 99,
     "metadata": {},
     "output_type": "execute_result"
    }
   ],
   "source": [
    "B=np.swapaxes(B,0,-1)\n",
    "B"
   ]
  },
  {
   "cell_type": "code",
   "execution_count": 100,
   "id": "f9895a2c",
   "metadata": {},
   "outputs": [],
   "source": [
    "Bx,By,Bz=B"
   ]
  },
  {
   "cell_type": "code",
   "execution_count": 101,
   "id": "65e7a0b0",
   "metadata": {},
   "outputs": [
    {
     "data": {
      "text/plain": [
       "[<matplotlib.lines.Line2D at 0x2380ad8f590>]"
      ]
     },
     "execution_count": 101,
     "metadata": {},
     "output_type": "execute_result"
    },
    {
     "data": {
      "image/png": "[encoded data removed]",
      "text/plain": [
       "<Figure size 640x480 with 1 Axes>"
      ]
     },
     "metadata": {},
     "output_type": "display_data"
    }
   ],
   "source": [
    "plt.plot(t,Ey[0])\n",
    "plt.plot(t,Bx[0])"
   ]
  },
  {
   "cell_type": "code",
   "execution_count": 102,
   "id": "cf1f9e38",
   "metadata": {},
   "outputs": [
    {
     "data": {
      "text/plain": [
       "array([[[ 1.00000000e+00,  1.22464680e-16,  0.00000000e+00],\n",
       "        [ 9.91954813e-01, -2.53184907e-01,  0.00000000e+00],\n",
       "        [ 9.67948701e-01, -5.02295974e-01,  0.00000000e+00],\n",
       "        ...,\n",
       "        [ 9.67948701e-01,  5.02295974e-01,  0.00000000e+00],\n",
       "        [ 9.91954813e-01,  2.53184907e-01,  0.00000000e+00],\n",
       "        [ 1.00000000e+00,  1.10218212e-15,  0.00000000e+00]],\n",
       "\n",
       "       [[ 9.94902816e-01,  2.01676841e-01,  0.00000000e+00],\n",
       "        [ 9.99664020e-01, -5.18400645e-02,  0.00000000e+00],\n",
       "        [ 9.88340255e-01, -3.04522843e-01,  0.00000000e+00],\n",
       "        ...,\n",
       "        [ 9.37689522e-01,  6.94948515e-01,  0.00000000e+00],\n",
       "        [ 9.74133253e-01,  4.51948690e-01,  0.00000000e+00],\n",
       "        [ 9.94902816e-01,  2.01676841e-01,  0.00000000e+00]],\n",
       "\n",
       "       [[ 9.79663226e-01,  4.01297713e-01,  0.00000000e+00],\n",
       "        [ 9.97182283e-01,  1.50033255e-01,  0.00000000e+00],\n",
       "        [ 9.98656304e-01, -1.03645294e-01,  0.00000000e+00],\n",
       "        ...,\n",
       "        [ 8.97871191e-01,  8.80516495e-01,  0.00000000e+00],\n",
       "        [ 9.46381021e-01,  6.46105141e-01,  0.00000000e+00],\n",
       "        [ 9.79663226e-01,  4.01297713e-01,  0.00000000e+00]],\n",
       "\n",
       "       ...,\n",
       "\n",
       "       [[-9.31164735e-01, -7.29197467e-01,  0.00000000e+00],\n",
       "        [-9.69828789e-01, -4.87574080e-01,  0.00000000e+00],\n",
       "        [-9.92887934e-01, -2.38105444e-01,  0.00000000e+00],\n",
       "        ...,\n",
       "        [-8.09751458e-01, -1.17354604e+00,  0.00000000e+00],\n",
       "        [-8.77517892e-01, -9.59087794e-01,  0.00000000e+00],\n",
       "        [-9.31164735e-01, -7.29197467e-01,  0.00000000e+00]],\n",
       "\n",
       "       [[-8.89652856e-01, -9.13274975e-01,  0.00000000e+00],\n",
       "        [-9.40302293e-01, -6.80680831e-01,  0.00000000e+00],\n",
       "        [-9.75821913e-01, -4.37134278e-01,  0.00000000e+00],\n",
       "        ...,\n",
       "        [-7.46454741e-01, -1.33087237e+00,  0.00000000e+00],\n",
       "        [-8.24688573e-01, -1.13117418e+00,  0.00000000e+00],\n",
       "        [-8.89652856e-01, -9.13274975e-01,  0.00000000e+00]],\n",
       "\n",
       "       [[-8.39071529e-01, -1.08804222e+00,  0.00000000e+00],\n",
       "        [-9.01190009e-01, -8.66848471e-01,  0.00000000e+00],\n",
       "        [-9.48808004e-01, -6.31706804e-01,  0.00000000e+00],\n",
       "        ...,\n",
       "        [-6.75548390e-01, -1.47463131e+00,  0.00000000e+00],\n",
       "        [-7.63452074e-01, -1.29172897e+00,  0.00000000e+00],\n",
       "        [-8.39071529e-01, -1.08804222e+00,  0.00000000e+00]]])"
      ]
     },
     "execution_count": 102,
     "metadata": {},
     "output_type": "execute_result"
    }
   ],
   "source": [
    "E"
   ]
  },
  {
   "cell_type": "code",
   "execution_count": 103,
   "id": "064e730e",
   "metadata": {},
   "outputs": [
    {
     "data": {
      "text/plain": [
       "array([[[-1.22464680e-16, -2.01676841e-01, -4.01297713e-01, ...,\n",
       "          7.29197467e-01,  9.13274975e-01,  1.08804222e+00],\n",
       "        [ 2.53184907e-01,  5.18400645e-02, -1.50033255e-01, ...,\n",
       "          4.87574080e-01,  6.80680831e-01,  8.66848471e-01],\n",
       "        [ 5.02295974e-01,  3.04522843e-01,  1.03645294e-01, ...,\n",
       "          2.38105444e-01,  4.37134278e-01,  6.31706804e-01],\n",
       "        ...,\n",
       "        [-5.02295974e-01, -6.94948515e-01, -8.80516495e-01, ...,\n",
       "          1.17354604e+00,  1.33087237e+00,  1.47463131e+00],\n",
       "        [-2.53184907e-01, -4.51948690e-01, -6.46105141e-01, ...,\n",
       "          9.59087794e-01,  1.13117418e+00,  1.29172897e+00],\n",
       "        [-1.10218212e-15, -2.01676841e-01, -4.01297713e-01, ...,\n",
       "          7.29197467e-01,  9.13274975e-01,  1.08804222e+00]],\n",
       "\n",
       "       [[ 1.00000000e+00,  9.94902816e-01,  9.79663226e-01, ...,\n",
       "         -9.31164735e-01, -8.89652856e-01, -8.39071529e-01],\n",
       "        [ 9.91954813e-01,  9.99664020e-01,  9.97182283e-01, ...,\n",
       "         -9.69828789e-01, -9.40302293e-01, -9.01190009e-01],\n",
       "        [ 9.67948701e-01,  9.88340255e-01,  9.98656304e-01, ...,\n",
       "         -9.92887934e-01, -9.75821913e-01, -9.48808004e-01],\n",
       "        ...,\n",
       "        [ 9.67948701e-01,  9.37689522e-01,  8.97871191e-01, ...,\n",
       "         -8.09751458e-01, -7.46454741e-01, -6.75548390e-01],\n",
       "        [ 9.91954813e-01,  9.74133253e-01,  9.46381021e-01, ...,\n",
       "         -8.77517892e-01, -8.24688573e-01, -7.63452074e-01],\n",
       "        [ 1.00000000e+00,  9.94902816e-01,  9.79663226e-01, ...,\n",
       "         -9.31164735e-01, -8.89652856e-01, -8.39071529e-01]],\n",
       "\n",
       "       [[ 0.00000000e+00,  0.00000000e+00,  0.00000000e+00, ...,\n",
       "          0.00000000e+00,  0.00000000e+00,  0.00000000e+00],\n",
       "        [-0.00000000e+00, -0.00000000e+00,  0.00000000e+00, ...,\n",
       "          0.00000000e+00,  0.00000000e+00,  0.00000000e+00],\n",
       "        [-0.00000000e+00, -0.00000000e+00, -0.00000000e+00, ...,\n",
       "          0.00000000e+00,  0.00000000e+00,  0.00000000e+00],\n",
       "        ...,\n",
       "        [ 0.00000000e+00,  0.00000000e+00,  0.00000000e+00, ...,\n",
       "          0.00000000e+00,  0.00000000e+00,  0.00000000e+00],\n",
       "        [ 0.00000000e+00,  0.00000000e+00,  0.00000000e+00, ...,\n",
       "          0.00000000e+00,  0.00000000e+00,  0.00000000e+00],\n",
       "        [ 0.00000000e+00,  0.00000000e+00,  0.00000000e+00, ...,\n",
       "          0.00000000e+00,  0.00000000e+00,  0.00000000e+00]]])"
      ]
     },
     "execution_count": 103,
     "metadata": {},
     "output_type": "execute_result"
    }
   ],
   "source": [
    "B\n"
   ]
  },
  {
   "cell_type": "code",
   "execution_count": 104,
   "id": "123b30a8",
   "metadata": {},
   "outputs": [
    {
     "data": {
      "text/plain": [
       "array([[[-1.22464680e-16,  1.00000000e+00,  0.00000000e+00],\n",
       "        [ 2.53184907e-01,  9.91954813e-01, -0.00000000e+00],\n",
       "        [ 5.02295974e-01,  9.67948701e-01, -0.00000000e+00],\n",
       "        ...,\n",
       "        [-5.02295974e-01,  9.67948701e-01,  0.00000000e+00],\n",
       "        [-2.53184907e-01,  9.91954813e-01,  0.00000000e+00],\n",
       "        [-1.10218212e-15,  1.00000000e+00,  0.00000000e+00]],\n",
       "\n",
       "       [[-2.01676841e-01,  9.94902816e-01,  0.00000000e+00],\n",
       "        [ 5.18400645e-02,  9.99664020e-01, -0.00000000e+00],\n",
       "        [ 3.04522843e-01,  9.88340255e-01, -0.00000000e+00],\n",
       "        ...,\n",
       "        [-6.94948515e-01,  9.37689522e-01,  0.00000000e+00],\n",
       "        [-4.51948690e-01,  9.74133253e-01,  0.00000000e+00],\n",
       "        [-2.01676841e-01,  9.94902816e-01,  0.00000000e+00]],\n",
       "\n",
       "       [[-4.01297713e-01,  9.79663226e-01,  0.00000000e+00],\n",
       "        [-1.50033255e-01,  9.97182283e-01,  0.00000000e+00],\n",
       "        [ 1.03645294e-01,  9.98656304e-01, -0.00000000e+00],\n",
       "        ...,\n",
       "        [-8.80516495e-01,  8.97871191e-01,  0.00000000e+00],\n",
       "        [-6.46105141e-01,  9.46381021e-01,  0.00000000e+00],\n",
       "        [-4.01297713e-01,  9.79663226e-01,  0.00000000e+00]],\n",
       "\n",
       "       ...,\n",
       "\n",
       "       [[ 7.29197467e-01, -9.31164735e-01,  0.00000000e+00],\n",
       "        [ 4.87574080e-01, -9.69828789e-01,  0.00000000e+00],\n",
       "        [ 2.38105444e-01, -9.92887934e-01,  0.00000000e+00],\n",
       "        ...,\n",
       "        [ 1.17354604e+00, -8.09751458e-01,  0.00000000e+00],\n",
       "        [ 9.59087794e-01, -8.77517892e-01,  0.00000000e+00],\n",
       "        [ 7.29197467e-01, -9.31164735e-01,  0.00000000e+00]],\n",
       "\n",
       "       [[ 9.13274975e-01, -8.89652856e-01,  0.00000000e+00],\n",
       "        [ 6.80680831e-01, -9.40302293e-01,  0.00000000e+00],\n",
       "        [ 4.37134278e-01, -9.75821913e-01,  0.00000000e+00],\n",
       "        ...,\n",
       "        [ 1.33087237e+00, -7.46454741e-01,  0.00000000e+00],\n",
       "        [ 1.13117418e+00, -8.24688573e-01,  0.00000000e+00],\n",
       "        [ 9.13274975e-01, -8.89652856e-01,  0.00000000e+00]],\n",
       "\n",
       "       [[ 1.08804222e+00, -8.39071529e-01,  0.00000000e+00],\n",
       "        [ 8.66848471e-01, -9.01190009e-01,  0.00000000e+00],\n",
       "        [ 6.31706804e-01, -9.48808004e-01,  0.00000000e+00],\n",
       "        ...,\n",
       "        [ 1.47463131e+00, -6.75548390e-01,  0.00000000e+00],\n",
       "        [ 1.29172897e+00, -7.63452074e-01,  0.00000000e+00],\n",
       "        [ 1.08804222e+00, -8.39071529e-01,  0.00000000e+00]]])"
      ]
     },
     "execution_count": 104,
     "metadata": {},
     "output_type": "execute_result"
    }
   ],
   "source": [
    "B=np.swapaxes(B,0,-1)\n",
    "B"
   ]
  },
  {
   "cell_type": "code",
   "execution_count": 106,
   "id": "b14b40b0",
   "metadata": {},
   "outputs": [
    {
     "data": {
      "text/plain": [
       "array([[[ 0.        , -0.        ,  1.        ],\n",
       "        [ 0.        ,  0.        ,  1.04807695],\n",
       "        [ 0.        ,  0.        ,  1.18922593],\n",
       "        ...,\n",
       "        [ 0.        , -0.        ,  1.18922593],\n",
       "        [ 0.        , -0.        ,  1.04807695],\n",
       "        [ 0.        , -0.        ,  1.        ]],\n",
       "\n",
       "       [[ 0.        , -0.        ,  1.03050516],\n",
       "        [ 0.        ,  0.        ,  1.00201554],\n",
       "        [ 0.        ,  0.        ,  1.06955062],\n",
       "        ...,\n",
       "        [ 0.        , -0.        ,  1.36221508],\n",
       "        [ 0.        , -0.        ,  1.15319321],\n",
       "        [ 0.        , -0.        ,  1.03050516]],\n",
       "\n",
       "       [[ 0.        , -0.        ,  1.12077989],\n",
       "        [ 0.        , -0.        ,  1.01688248],\n",
       "        [ 0.        ,  0.        ,  1.00805676],\n",
       "        ...,\n",
       "        [ 0.        , -0.        ,  1.58148197],\n",
       "        [ 0.        , -0.        ,  1.31308889],\n",
       "        [ 0.        , -0.        ,  1.12077989]],\n",
       "\n",
       "       ...,\n",
       "\n",
       "       [[ 0.        ,  0.        ,  1.39879671],\n",
       "        [ 0.        ,  0.        ,  1.17829636],\n",
       "        [ 0.        ,  0.        ,  1.04252065],\n",
       "        ...,\n",
       "        [ 0.        ,  0.        ,  2.03290773],\n",
       "        [ 0.        ,  0.        ,  1.68988705],\n",
       "        [ 0.        ,  0.        ,  1.39879671]],\n",
       "\n",
       "       [[ 0.        ,  0.        ,  1.62555339],\n",
       "        [ 0.        ,  0.        ,  1.3474948 ],\n",
       "        [ 0.        ,  0.        ,  1.14331478],\n",
       "        ...,\n",
       "        [ 0.        ,  0.        ,  2.32841596],\n",
       "        [ 0.        ,  0.        ,  1.95966627],\n",
       "        [ 0.        ,  0.        ,  1.62555339]],\n",
       "\n",
       "       [[ 0.        ,  0.        ,  1.88787691],\n",
       "        [ 0.        ,  0.        ,  1.5635697 ],\n",
       "        [ 0.        ,  0.        ,  1.29929012],\n",
       "        ...,\n",
       "        [ 0.        ,  0.        ,  2.63090312],\n",
       "        [ 0.        ,  0.        ,  2.25142279],\n",
       "        [ 0.        ,  0.        ,  1.88787691]]])"
      ]
     },
     "execution_count": 106,
     "metadata": {},
     "output_type": "execute_result"
    }
   ],
   "source": [
    "S=np.cross(E,B)\n",
    "S"
   ]
  },
  {
   "cell_type": "code",
   "execution_count": 108,
   "id": "6a45281d",
   "metadata": {},
   "outputs": [],
   "source": [
    "S=np.swapaxes(S,0,-1)"
   ]
  },
  {
   "cell_type": "code",
   "execution_count": 110,
   "id": "26df9232",
   "metadata": {},
   "outputs": [],
   "source": [
    "Sx,Sy,Sz=S"
   ]
  },
  {
   "cell_type": "code",
   "execution_count": 111,
   "id": "b17b3e9a",
   "metadata": {},
   "outputs": [
    {
     "data": {
      "text/plain": [
       "array([[0., 0., 0., ..., 0., 0., 0.],\n",
       "       [0., 0., 0., ..., 0., 0., 0.],\n",
       "       [0., 0., 0., ..., 0., 0., 0.],\n",
       "       ...,\n",
       "       [0., 0., 0., ..., 0., 0., 0.],\n",
       "       [0., 0., 0., ..., 0., 0., 0.],\n",
       "       [0., 0., 0., ..., 0., 0., 0.]])"
      ]
     },
     "execution_count": 111,
     "metadata": {},
     "output_type": "execute_result"
    }
   ],
   "source": [
    "Sx"
   ]
  },
  {
   "cell_type": "code",
   "execution_count": 112,
   "id": "0f8b7a4b",
   "metadata": {},
   "outputs": [
    {
     "data": {
      "text/plain": [
       "array([[-0., -0., -0., ...,  0.,  0.,  0.],\n",
       "       [ 0.,  0., -0., ...,  0.,  0.,  0.],\n",
       "       [ 0.,  0.,  0., ...,  0.,  0.,  0.],\n",
       "       ...,\n",
       "       [-0., -0., -0., ...,  0.,  0.,  0.],\n",
       "       [-0., -0., -0., ...,  0.,  0.,  0.],\n",
       "       [-0., -0., -0., ...,  0.,  0.,  0.]])"
      ]
     },
     "execution_count": 112,
     "metadata": {},
     "output_type": "execute_result"
    }
   ],
   "source": [
    "Sy"
   ]
  },
  {
   "cell_type": "code",
   "execution_count": 113,
   "id": "26b48191",
   "metadata": {},
   "outputs": [
    {
     "data": {
      "text/plain": [
       "array([[1.        , 1.03050516, 1.12077989, ..., 1.39879671, 1.62555339,\n",
       "        1.88787691],\n",
       "       [1.04807695, 1.00201554, 1.01688248, ..., 1.17829636, 1.3474948 ,\n",
       "        1.5635697 ],\n",
       "       [1.18922593, 1.06955062, 1.00805676, ..., 1.04252065, 1.14331478,\n",
       "        1.29929012],\n",
       "       ...,\n",
       "       [1.18922593, 1.36221508, 1.58148197, ..., 2.03290773, 2.32841596,\n",
       "        2.63090312],\n",
       "       [1.04807695, 1.15319321, 1.31308889, ..., 1.68988705, 1.95966627,\n",
       "        2.25142279],\n",
       "       [1.        , 1.03050516, 1.12077989, ..., 1.39879671, 1.62555339,\n",
       "        1.88787691]])"
      ]
     },
     "execution_count": 113,
     "metadata": {},
     "output_type": "execute_result"
    }
   ],
   "source": [
    "Sz"
   ]
  },
  {
   "cell_type": "code",
   "execution_count": null,
   "id": "7cfa76df",
   "metadata": {},
   "outputs": [],
   "source": []
  }
 ],
 "metadata": {
  "kernelspec": {
   "display_name": "Python 3 (ipykernel)",
   "language": "python",
   "name": "python3"
  },
  "language_info": {
   "codemirror_mode": {
    "name": "ipython",
    "version": 3
   },
   "file_extension": ".py",
   "mimetype": "text/x-python",
   "name": "python",
   "nbconvert_exporter": "python",
   "pygments_lexer": "ipython3",
   "version": "3.11.4"
  }
 },
 "nbformat": 4,
 "nbformat_minor": 5
}
