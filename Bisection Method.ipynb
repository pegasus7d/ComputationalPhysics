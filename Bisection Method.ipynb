{
 "cells": [
  {
   "cell_type": "code",
   "execution_count": 1,
   "id": "4b352d46",
   "metadata": {},
   "outputs": [],
   "source": [
    "import numpy as np\n",
    "\n",
    "def my_bisection(f, a, b, tol): \n",
    "    \n",
    "    if np.sign(f(a)) == np.sign(f(b)):\n",
    "        raise Exception(\n",
    "         \"The scalars a and b do not bound a root\")\n",
    "        \n",
    "    # get midpoint\n",
    "    m = (a + b)/2\n",
    "    \n",
    "    if np.abs(f(m)) < tol:\n",
    "        # stopping condition, report m as root\n",
    "        return m\n",
    "    elif np.sign(f(a)) == np.sign(f(m)):\n",
    "        # case where m is an improvement on a. \n",
    "        # Make recursive call with a = m\n",
    "        return my_bisection(f, m, b, tol)\n",
    "    elif np.sign(f(b)) == np.sign(f(m)):\n",
    "        # case where m is an improvement on b. \n",
    "        # Make recursive call with b = m\n",
    "        return my_bisection(f, a, m, tol)"
   ]
  },
  {
   "cell_type": "code",
   "execution_count": 2,
   "id": "f4fddea4",
   "metadata": {},
   "outputs": [
    {
     "name": "stdout",
     "output_type": "stream",
     "text": [
      "r1 = 1.4375\n",
      "r01 = 1.4140625\n",
      "f(r1) = 0.06640625\n",
      "f(r01) = -0.00042724609375\n"
     ]
    }
   ],
   "source": [
    "f = lambda x: x**2 - 2\n",
    "\n",
    "r1 = my_bisection(f, 0, 2, 0.1)\n",
    "print(\"r1 =\", r1)\n",
    "r01 = my_bisection(f, 0, 2, 0.01)\n",
    "print(\"r01 =\", r01)\n",
    "\n",
    "print(\"f(r1) =\", f(r1))\n",
    "print(\"f(r01) =\", f(r01))"
   ]
  },
  {
   "cell_type": "code",
   "execution_count": null,
   "id": "0e490d11",
   "metadata": {},
   "outputs": [],
   "source": []
  }
 ],
 "metadata": {
  "kernelspec": {
   "display_name": "Python 3 (ipykernel)",
   "language": "python",
   "name": "python3"
  },
  "language_info": {
   "codemirror_mode": {
    "name": "ipython",
    "version": 3
   },
   "file_extension": ".py",
   "mimetype": "text/x-python",
   "name": "python",
   "nbconvert_exporter": "python",
   "pygments_lexer": "ipython3",
   "version": "3.11.4"
  }
 },
 "nbformat": 4,
 "nbformat_minor": 5
}
